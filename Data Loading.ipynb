{
  "nbformat": 4,
  "nbformat_minor": 0,
  "metadata": {
    "orig_nbformat": 2,
    "colab": {
      "name": "Data Loading.ipynb",
      "provenance": []
    },
    "kernelspec": {
      "name": "python3",
      "display_name": "Python 3"
    },
    "accelerator": "TPU"
  },
  "cells": [
    {
      "cell_type": "markdown",
      "metadata": {
        "id": "aR9T7toO9bJZ"
      },
      "source": [
        "Reading And Writing Data in Text Format (link with Google Colab)\n",
        "[![Open In Colab](https://colab.research.google.com/assets/colab-badge.svg)](https://colab.research.google.com/github/googlecolab/colabtools/blob/master/notebooks/colab-github-demo.ipynb)\n"
      ]
    },
    {
      "cell_type": "code",
      "metadata": {
        "id": "MIl9vrKz9pit"
      },
      "source": [
        "import pandas as pd\n",
        "import numpy as np"
      ],
      "execution_count": 1,
      "outputs": []
    },
    {
      "cell_type": "code",
      "metadata": {
        "id": "xBT09Br2NhgG"
      },
      "source": [
        "# !cat   /content/sample_data/california_housing_test.csv "
      ],
      "execution_count": 2,
      "outputs": []
    },
    {
      "cell_type": "code",
      "metadata": {
        "id": "EQPip1ypNlUY",
        "outputId": "c4660686-62e7-4151-cc7f-7e2383c1b7c3",
        "colab": {
          "base_uri": "https://localhost:8080/",
          "height": 142
        }
      },
      "source": [
        "# pd.read_csv(\"/content/sample_data/california_housing_test.csv\").head(3)"
      ],
      "execution_count": 3,
      "outputs": []
    },
    {
      "cell_type": "code",
      "metadata": {
        "id": "PK_SCc2KN0aX",
        "outputId": "3a112110-3b53-450d-cb4b-a2aa849639f6",
        "colab": {
          "base_uri": "https://localhost:8080/",
          "height": 419
        }
      },
      "source": [
        "# pd.read_csv(\"/content/sample_data/california_housing_test.csv\",header= None) # by default it's none"
      ],
      "execution_count": 4,
      "outputs": []
    },
    {
      "cell_type": "code",
      "metadata": {
        "id": "TG9EplpnOG0l"
      },
      "source": [
        "data = pd.read_csv('G:\\Data\\grupo-bimbo-inventory-demand\\producto_tabla\\producto_tabla.csv')"
      ],
      "execution_count": 5,
      "outputs": []
    },
    {
      "cell_type": "code",
      "execution_count": 6,
      "metadata": {},
      "outputs": [
        {
          "output_type": "execute_result",
          "data": {
            "text/plain": [
              "   Producto_ID                          NombreProducto\n",
              "0            0                       NO IDENTIFICADO 0\n",
              "1            9               Capuccino Moka 750g NES 9\n",
              "2           41  Bimbollos Ext sAjonjoli 6p 480g BIM 41\n",
              "3           53          Burritos Sincro 170g CU LON 53\n",
              "4           72     Div Tira Mini Doradita 4p 45g TR 72\n",
              "5           73       Pan Multigrano Linaza 540g BIM 73\n",
              "6           98            Tostado Integral 180g WON 98\n",
              "7           99                  Pan Blanco 567g WON 99\n",
              "8          100  Super Pan Bco Ajonjoli 680g SP WON 100\n",
              "9          106      Wonder 100pct mediano 475g WON 106"
            ],
            "text/html": "<div>\n<style scoped>\n    .dataframe tbody tr th:only-of-type {\n        vertical-align: middle;\n    }\n\n    .dataframe tbody tr th {\n        vertical-align: top;\n    }\n\n    .dataframe thead th {\n        text-align: right;\n    }\n</style>\n<table border=\"1\" class=\"dataframe\">\n  <thead>\n    <tr style=\"text-align: right;\">\n      <th></th>\n      <th>Producto_ID</th>\n      <th>NombreProducto</th>\n    </tr>\n  </thead>\n  <tbody>\n    <tr>\n      <th>0</th>\n      <td>0</td>\n      <td>NO IDENTIFICADO 0</td>\n    </tr>\n    <tr>\n      <th>1</th>\n      <td>9</td>\n      <td>Capuccino Moka 750g NES 9</td>\n    </tr>\n    <tr>\n      <th>2</th>\n      <td>41</td>\n      <td>Bimbollos Ext sAjonjoli 6p 480g BIM 41</td>\n    </tr>\n    <tr>\n      <th>3</th>\n      <td>53</td>\n      <td>Burritos Sincro 170g CU LON 53</td>\n    </tr>\n    <tr>\n      <th>4</th>\n      <td>72</td>\n      <td>Div Tira Mini Doradita 4p 45g TR 72</td>\n    </tr>\n    <tr>\n      <th>5</th>\n      <td>73</td>\n      <td>Pan Multigrano Linaza 540g BIM 73</td>\n    </tr>\n    <tr>\n      <th>6</th>\n      <td>98</td>\n      <td>Tostado Integral 180g WON 98</td>\n    </tr>\n    <tr>\n      <th>7</th>\n      <td>99</td>\n      <td>Pan Blanco 567g WON 99</td>\n    </tr>\n    <tr>\n      <th>8</th>\n      <td>100</td>\n      <td>Super Pan Bco Ajonjoli 680g SP WON 100</td>\n    </tr>\n    <tr>\n      <th>9</th>\n      <td>106</td>\n      <td>Wonder 100pct mediano 475g WON 106</td>\n    </tr>\n  </tbody>\n</table>\n</div>"
          },
          "metadata": {},
          "execution_count": 6
        }
      ],
      "source": [
        "data.head(10)"
      ]
    },
    {
      "cell_type": "code",
      "execution_count": 7,
      "metadata": {},
      "outputs": [
        {
          "output_type": "execute_result",
          "data": {
            "text/plain": [
              "(2592, 2)"
            ]
          },
          "metadata": {},
          "execution_count": 7
        }
      ],
      "source": [
        "data.shape"
      ]
    },
    {
      "cell_type": "code",
      "execution_count": 8,
      "metadata": {},
      "outputs": [],
      "source": [
        "data = pd.read_csv('G:\\Data\\grupo-bimbo-inventory-demand\\producto_tabla\\producto_tabla.csv',names=['Product ID','Number Product']) # reanme column names"
      ]
    },
    {
      "cell_type": "code",
      "execution_count": 9,
      "metadata": {},
      "outputs": [
        {
          "output_type": "execute_result",
          "data": {
            "text/plain": [
              "    Product ID                          Number Product\n",
              "0  Producto_ID                          NombreProducto\n",
              "1            0                       NO IDENTIFICADO 0\n",
              "2            9               Capuccino Moka 750g NES 9\n",
              "3           41  Bimbollos Ext sAjonjoli 6p 480g BIM 41\n",
              "4           53          Burritos Sincro 170g CU LON 53\n",
              "5           72     Div Tira Mini Doradita 4p 45g TR 72\n",
              "6           73       Pan Multigrano Linaza 540g BIM 73\n",
              "7           98            Tostado Integral 180g WON 98\n",
              "8           99                  Pan Blanco 567g WON 99\n",
              "9          100  Super Pan Bco Ajonjoli 680g SP WON 100"
            ],
            "text/html": "<div>\n<style scoped>\n    .dataframe tbody tr th:only-of-type {\n        vertical-align: middle;\n    }\n\n    .dataframe tbody tr th {\n        vertical-align: top;\n    }\n\n    .dataframe thead th {\n        text-align: right;\n    }\n</style>\n<table border=\"1\" class=\"dataframe\">\n  <thead>\n    <tr style=\"text-align: right;\">\n      <th></th>\n      <th>Product ID</th>\n      <th>Number Product</th>\n    </tr>\n  </thead>\n  <tbody>\n    <tr>\n      <th>0</th>\n      <td>Producto_ID</td>\n      <td>NombreProducto</td>\n    </tr>\n    <tr>\n      <th>1</th>\n      <td>0</td>\n      <td>NO IDENTIFICADO 0</td>\n    </tr>\n    <tr>\n      <th>2</th>\n      <td>9</td>\n      <td>Capuccino Moka 750g NES 9</td>\n    </tr>\n    <tr>\n      <th>3</th>\n      <td>41</td>\n      <td>Bimbollos Ext sAjonjoli 6p 480g BIM 41</td>\n    </tr>\n    <tr>\n      <th>4</th>\n      <td>53</td>\n      <td>Burritos Sincro 170g CU LON 53</td>\n    </tr>\n    <tr>\n      <th>5</th>\n      <td>72</td>\n      <td>Div Tira Mini Doradita 4p 45g TR 72</td>\n    </tr>\n    <tr>\n      <th>6</th>\n      <td>73</td>\n      <td>Pan Multigrano Linaza 540g BIM 73</td>\n    </tr>\n    <tr>\n      <th>7</th>\n      <td>98</td>\n      <td>Tostado Integral 180g WON 98</td>\n    </tr>\n    <tr>\n      <th>8</th>\n      <td>99</td>\n      <td>Pan Blanco 567g WON 99</td>\n    </tr>\n    <tr>\n      <th>9</th>\n      <td>100</td>\n      <td>Super Pan Bco Ajonjoli 680g SP WON 100</td>\n    </tr>\n  </tbody>\n</table>\n</div>"
          },
          "metadata": {},
          "execution_count": 9
        }
      ],
      "source": [
        "data.head(10)"
      ]
    },
    {
      "cell_type": "code",
      "execution_count": 10,
      "metadata": {},
      "outputs": [],
      "source": [
        "data = pd.read_csv('G:\\Data\\grupo-bimbo-inventory-demand\\producto_tabla\\producto_tabla.csv',sep=',')"
      ]
    },
    {
      "cell_type": "code",
      "execution_count": 11,
      "metadata": {},
      "outputs": [
        {
          "output_type": "execute_result",
          "data": {
            "text/plain": [
              "   Producto_ID                          NombreProducto\n",
              "0            0                       NO IDENTIFICADO 0\n",
              "1            9               Capuccino Moka 750g NES 9\n",
              "2           41  Bimbollos Ext sAjonjoli 6p 480g BIM 41\n",
              "3           53          Burritos Sincro 170g CU LON 53\n",
              "4           72     Div Tira Mini Doradita 4p 45g TR 72"
            ],
            "text/html": "<div>\n<style scoped>\n    .dataframe tbody tr th:only-of-type {\n        vertical-align: middle;\n    }\n\n    .dataframe tbody tr th {\n        vertical-align: top;\n    }\n\n    .dataframe thead th {\n        text-align: right;\n    }\n</style>\n<table border=\"1\" class=\"dataframe\">\n  <thead>\n    <tr style=\"text-align: right;\">\n      <th></th>\n      <th>Producto_ID</th>\n      <th>NombreProducto</th>\n    </tr>\n  </thead>\n  <tbody>\n    <tr>\n      <th>0</th>\n      <td>0</td>\n      <td>NO IDENTIFICADO 0</td>\n    </tr>\n    <tr>\n      <th>1</th>\n      <td>9</td>\n      <td>Capuccino Moka 750g NES 9</td>\n    </tr>\n    <tr>\n      <th>2</th>\n      <td>41</td>\n      <td>Bimbollos Ext sAjonjoli 6p 480g BIM 41</td>\n    </tr>\n    <tr>\n      <th>3</th>\n      <td>53</td>\n      <td>Burritos Sincro 170g CU LON 53</td>\n    </tr>\n    <tr>\n      <th>4</th>\n      <td>72</td>\n      <td>Div Tira Mini Doradita 4p 45g TR 72</td>\n    </tr>\n  </tbody>\n</table>\n</div>"
          },
          "metadata": {},
          "execution_count": 11
        }
      ],
      "source": [
        "data.head()"
      ]
    },
    {
      "cell_type": "code",
      "execution_count": 12,
      "metadata": {},
      "outputs": [
        {
          "output_type": "execute_result",
          "data": {
            "text/plain": [
              "RangeIndex(start=0, stop=2592, step=1)"
            ]
          },
          "metadata": {},
          "execution_count": 12
        }
      ],
      "source": [
        "data.index"
      ]
    },
    {
      "cell_type": "code",
      "execution_count": 13,
      "metadata": {},
      "outputs": [],
      "source": [
        "data.columns.name = 'Columns'"
      ]
    },
    {
      "cell_type": "code",
      "execution_count": 14,
      "metadata": {},
      "outputs": [
        {
          "output_type": "execute_result",
          "data": {
            "text/plain": [
              "'Columns'"
            ]
          },
          "metadata": {},
          "execution_count": 14
        }
      ],
      "source": [
        "data.columns.name"
      ]
    },
    {
      "cell_type": "code",
      "execution_count": 15,
      "metadata": {},
      "outputs": [
        {
          "output_type": "execute_result",
          "data": {
            "text/plain": [
              "Columns\n",
              "Producto_ID       0\n",
              "NombreProducto    0\n",
              "dtype: int64"
            ]
          },
          "metadata": {},
          "execution_count": 15
        }
      ],
      "source": [
        "data.isnull().sum() # its means there is no null value in our data"
      ]
    },
    {
      "cell_type": "code",
      "execution_count": 16,
      "metadata": {},
      "outputs": [],
      "source": [
        "data = pd.read_csv('G:\\Data\\grupo-bimbo-inventory-demand\\producto_tabla\\producto_tabla.csv',skiprows=2500)"
      ]
    },
    {
      "cell_type": "code",
      "execution_count": 17,
      "metadata": {},
      "outputs": [
        {
          "output_type": "execute_result",
          "data": {
            "text/plain": [
              "(92, 2)"
            ]
          },
          "metadata": {},
          "execution_count": 17
        }
      ],
      "source": [
        "data.shape"
      ]
    },
    {
      "cell_type": "code",
      "execution_count": 18,
      "metadata": {},
      "outputs": [
        {
          "output_type": "execute_result",
          "data": {
            "text/plain": [
              "    48417                   Bran Frut Fresa 48g BIM 48417\n",
              "0   48419          Bran Frut Manzana Canela 48g BIM 48419\n",
              "1   48421                    Bran Frut Pina 48g BIM 48421\n",
              "2   48440           Principe Chocolate 9p 42 5g MLA 48440\n",
              "3   48551                  Tortilla 558g 20p MTB DH 48551\n",
              "4   48557   Bimbollos Parrilleros 12p 1170g MTA BIM 48557\n",
              "..    ...                                             ...\n",
              "87  49992             Tostado Integral 180g MTA WON 49992\n",
              "88  49993             Tostado Integral 180g TAB WON 49993\n",
              "89  49994      Tostado Int 0pct Grasa Azuc 200g WON 49994\n",
              "90  49996  Tostado Int 0pct Grasa Azuc 200g MTA WON 49996\n",
              "91  49997  Tostado Int 0pct Grasa Azuc 200g TAB WON 49997\n",
              "\n",
              "[92 rows x 2 columns]"
            ],
            "text/html": "<div>\n<style scoped>\n    .dataframe tbody tr th:only-of-type {\n        vertical-align: middle;\n    }\n\n    .dataframe tbody tr th {\n        vertical-align: top;\n    }\n\n    .dataframe thead th {\n        text-align: right;\n    }\n</style>\n<table border=\"1\" class=\"dataframe\">\n  <thead>\n    <tr style=\"text-align: right;\">\n      <th></th>\n      <th>48417</th>\n      <th>Bran Frut Fresa 48g BIM 48417</th>\n    </tr>\n  </thead>\n  <tbody>\n    <tr>\n      <th>0</th>\n      <td>48419</td>\n      <td>Bran Frut Manzana Canela 48g BIM 48419</td>\n    </tr>\n    <tr>\n      <th>1</th>\n      <td>48421</td>\n      <td>Bran Frut Pina 48g BIM 48421</td>\n    </tr>\n    <tr>\n      <th>2</th>\n      <td>48440</td>\n      <td>Principe Chocolate 9p 42 5g MLA 48440</td>\n    </tr>\n    <tr>\n      <th>3</th>\n      <td>48551</td>\n      <td>Tortilla 558g 20p MTB DH 48551</td>\n    </tr>\n    <tr>\n      <th>4</th>\n      <td>48557</td>\n      <td>Bimbollos Parrilleros 12p 1170g MTA BIM 48557</td>\n    </tr>\n    <tr>\n      <th>...</th>\n      <td>...</td>\n      <td>...</td>\n    </tr>\n    <tr>\n      <th>87</th>\n      <td>49992</td>\n      <td>Tostado Integral 180g MTA WON 49992</td>\n    </tr>\n    <tr>\n      <th>88</th>\n      <td>49993</td>\n      <td>Tostado Integral 180g TAB WON 49993</td>\n    </tr>\n    <tr>\n      <th>89</th>\n      <td>49994</td>\n      <td>Tostado Int 0pct Grasa Azuc 200g WON 49994</td>\n    </tr>\n    <tr>\n      <th>90</th>\n      <td>49996</td>\n      <td>Tostado Int 0pct Grasa Azuc 200g MTA WON 49996</td>\n    </tr>\n    <tr>\n      <th>91</th>\n      <td>49997</td>\n      <td>Tostado Int 0pct Grasa Azuc 200g TAB WON 49997</td>\n    </tr>\n  </tbody>\n</table>\n<p>92 rows × 2 columns</p>\n</div>"
          },
          "metadata": {},
          "execution_count": 18
        }
      ],
      "source": [
        "data"
      ]
    },
    {
      "cell_type": "code",
      "execution_count": 19,
      "metadata": {},
      "outputs": [],
      "source": [
        "pd.options.display.max_rows = 10000"
      ]
    },
    {
      "cell_type": "code",
      "execution_count": 20,
      "metadata": {},
      "outputs": [],
      "source": [
        "data = pd.read_csv('G:\\Data\\grupo-bimbo-inventory-demand\\producto_tabla\\producto_tabla.csv')"
      ]
    },
    {
      "cell_type": "code",
      "execution_count": 21,
      "metadata": {},
      "outputs": [
        {
          "output_type": "execute_result",
          "data": {
            "text/plain": [
              "   Producto_ID                          NombreProducto\n",
              "0            0                       NO IDENTIFICADO 0\n",
              "1            9               Capuccino Moka 750g NES 9\n",
              "2           41  Bimbollos Ext sAjonjoli 6p 480g BIM 41\n",
              "3           53          Burritos Sincro 170g CU LON 53\n",
              "4           72     Div Tira Mini Doradita 4p 45g TR 72\n",
              "5           73       Pan Multigrano Linaza 540g BIM 73\n",
              "6           98            Tostado Integral 180g WON 98\n",
              "7           99                  Pan Blanco 567g WON 99\n",
              "8          100  Super Pan Bco Ajonjoli 680g SP WON 100\n",
              "9          106      Wonder 100pct mediano 475g WON 106"
            ],
            "text/html": "<div>\n<style scoped>\n    .dataframe tbody tr th:only-of-type {\n        vertical-align: middle;\n    }\n\n    .dataframe tbody tr th {\n        vertical-align: top;\n    }\n\n    .dataframe thead th {\n        text-align: right;\n    }\n</style>\n<table border=\"1\" class=\"dataframe\">\n  <thead>\n    <tr style=\"text-align: right;\">\n      <th></th>\n      <th>Producto_ID</th>\n      <th>NombreProducto</th>\n    </tr>\n  </thead>\n  <tbody>\n    <tr>\n      <th>0</th>\n      <td>0</td>\n      <td>NO IDENTIFICADO 0</td>\n    </tr>\n    <tr>\n      <th>1</th>\n      <td>9</td>\n      <td>Capuccino Moka 750g NES 9</td>\n    </tr>\n    <tr>\n      <th>2</th>\n      <td>41</td>\n      <td>Bimbollos Ext sAjonjoli 6p 480g BIM 41</td>\n    </tr>\n    <tr>\n      <th>3</th>\n      <td>53</td>\n      <td>Burritos Sincro 170g CU LON 53</td>\n    </tr>\n    <tr>\n      <th>4</th>\n      <td>72</td>\n      <td>Div Tira Mini Doradita 4p 45g TR 72</td>\n    </tr>\n    <tr>\n      <th>5</th>\n      <td>73</td>\n      <td>Pan Multigrano Linaza 540g BIM 73</td>\n    </tr>\n    <tr>\n      <th>6</th>\n      <td>98</td>\n      <td>Tostado Integral 180g WON 98</td>\n    </tr>\n    <tr>\n      <th>7</th>\n      <td>99</td>\n      <td>Pan Blanco 567g WON 99</td>\n    </tr>\n    <tr>\n      <th>8</th>\n      <td>100</td>\n      <td>Super Pan Bco Ajonjoli 680g SP WON 100</td>\n    </tr>\n    <tr>\n      <th>9</th>\n      <td>106</td>\n      <td>Wonder 100pct mediano 475g WON 106</td>\n    </tr>\n  </tbody>\n</table>\n</div>"
          },
          "metadata": {},
          "execution_count": 21
        }
      ],
      "source": [
        "data.head(10)"
      ]
    },
    {
      "source": [
        "### Writing Data To Text Format"
      ],
      "cell_type": "markdown",
      "metadata": {}
    },
    {
      "cell_type": "code",
      "execution_count": 22,
      "metadata": {},
      "outputs": [],
      "source": [
        "data = pd.read_csv('G:\\Data\\grupo-bimbo-inventory-demand\\producto_tabla\\producto_tabla.csv')"
      ]
    },
    {
      "cell_type": "code",
      "execution_count": 23,
      "metadata": {},
      "outputs": [],
      "source": [
        "data.to_csv(\"G:\\\\Data\\\\grupo-bimbo-inventory-demand\\\\producto_tabla\\\\new_producto_tabla.csv\") # created new csv file"
      ]
    },
    {
      "cell_type": "code",
      "execution_count": 24,
      "metadata": {},
      "outputs": [],
      "source": [
        "date = pd.date_range('1/1/2020',periods=10)"
      ]
    },
    {
      "cell_type": "code",
      "execution_count": 25,
      "metadata": {},
      "outputs": [
        {
          "output_type": "execute_result",
          "data": {
            "text/plain": [
              "DatetimeIndex(['2020-01-01', '2020-01-02', '2020-01-03', '2020-01-04',\n",
              "               '2020-01-05', '2020-01-06', '2020-01-07', '2020-01-08',\n",
              "               '2020-01-09', '2020-01-10'],\n",
              "              dtype='datetime64[ns]', freq='D')"
            ]
          },
          "metadata": {},
          "execution_count": 25
        }
      ],
      "source": [
        "date"
      ]
    },
    {
      "cell_type": "code",
      "execution_count": 26,
      "metadata": {},
      "outputs": [],
      "source": [
        "date = pd.date_range('1/1/2020',periods=10,freq='M')"
      ]
    },
    {
      "cell_type": "code",
      "execution_count": 27,
      "metadata": {},
      "outputs": [
        {
          "output_type": "execute_result",
          "data": {
            "text/plain": [
              "DatetimeIndex(['2020-01-31', '2020-02-29', '2020-03-31', '2020-04-30',\n",
              "               '2020-05-31', '2020-06-30', '2020-07-31', '2020-08-31',\n",
              "               '2020-09-30', '2020-10-31'],\n",
              "              dtype='datetime64[ns]', freq='M')"
            ]
          },
          "metadata": {},
          "execution_count": 27
        }
      ],
      "source": [
        "date"
      ]
    },
    {
      "source": [
        "### JSON Data\n",
        "\n",
        "- javascript object notation"
      ],
      "cell_type": "markdown",
      "metadata": {}
    },
    {
      "cell_type": "code",
      "execution_count": 58,
      "metadata": {},
      "outputs": [],
      "source": [
        "import json # impoted jason "
      ]
    },
    {
      "cell_type": "code",
      "execution_count": 92,
      "metadata": {},
      "outputs": [],
      "source": [
        "obj = \"\"\"\n",
        "{\"name\":\"wes\",\n",
        "\"places_lived\":[\"united state\",\"spain\",\"germany\"],\n",
        "\"pet\":null,\n",
        "\"siblings\":[{\"name\":\"scott\",\"age\":30,\"pets\":[\"zeus\",\"zuko\"]},\n",
        "{\"name\":\"katie\",\"age\":38,\n",
        "\"pets\":[\"sixes\",\"stache\",\"cisco\"]}]\n",
        "}\n",
        "\"\"\"\n",
        "\n",
        "# obj2= \"\"\"{\"array\": [1,2,3],\"boolean\": true,\"color\": \"gold\",\"null\": null,\"number\": 123, \"object\": { \"a\": \"b\",\"c\": \"d\" }, \"string\": \"Hello World\"}}\"\"\""
      ]
    },
    {
      "cell_type": "code",
      "execution_count": 93,
      "metadata": {},
      "outputs": [],
      "source": [
        "result = json.loads(obj)"
      ]
    },
    {
      "cell_type": "code",
      "execution_count": 94,
      "metadata": {},
      "outputs": [
        {
          "output_type": "execute_result",
          "data": {
            "text/plain": [
              "{'name': 'wes',\n",
              " 'places_lived': ['united state', 'spain', 'germany'],\n",
              " 'pet': None,\n",
              " 'siblings': [{'name': 'scott', 'age': 30, 'pets': ['zeus', 'zuko']},\n",
              "  {'name': 'katie', 'age': 38, 'pets': ['sixes', 'stache', 'cisco']}]}"
            ]
          },
          "metadata": {},
          "execution_count": 94
        }
      ],
      "source": [
        "result"
      ]
    },
    {
      "cell_type": "code",
      "execution_count": 95,
      "metadata": {},
      "outputs": [],
      "source": [
        "# Convert JSON data to Dataframe\n",
        "siblilings = pd.DataFrame(result['siblings'],columns=['name','age'])"
      ]
    },
    {
      "cell_type": "code",
      "execution_count": 96,
      "metadata": {},
      "outputs": [
        {
          "output_type": "execute_result",
          "data": {
            "text/plain": [
              "    name  age\n",
              "0  scott   30\n",
              "1  katie   38"
            ],
            "text/html": "<div>\n<style scoped>\n    .dataframe tbody tr th:only-of-type {\n        vertical-align: middle;\n    }\n\n    .dataframe tbody tr th {\n        vertical-align: top;\n    }\n\n    .dataframe thead th {\n        text-align: right;\n    }\n</style>\n<table border=\"1\" class=\"dataframe\">\n  <thead>\n    <tr style=\"text-align: right;\">\n      <th></th>\n      <th>name</th>\n      <th>age</th>\n    </tr>\n  </thead>\n  <tbody>\n    <tr>\n      <th>0</th>\n      <td>scott</td>\n      <td>30</td>\n    </tr>\n    <tr>\n      <th>1</th>\n      <td>katie</td>\n      <td>38</td>\n    </tr>\n  </tbody>\n</table>\n</div>"
          },
          "metadata": {},
          "execution_count": 96
        }
      ],
      "source": [
        "siblilings"
      ]
    },
    {
      "cell_type": "code",
      "execution_count": 115,
      "metadata": {},
      "outputs": [],
      "source": [
        "tables = pd.read_html(\"https://www.fdic.gov/bank/individual/failed/banklist.html\")"
      ]
    },
    {
      "cell_type": "code",
      "execution_count": 116,
      "metadata": {},
      "outputs": [
        {
          "output_type": "execute_result",
          "data": {
            "text/plain": [
              "1"
            ]
          },
          "metadata": {},
          "execution_count": 116
        }
      ],
      "source": [
        "len(tables)"
      ]
    },
    {
      "cell_type": "code",
      "execution_count": 117,
      "metadata": {},
      "outputs": [],
      "source": [
        "failures = tables[0]"
      ]
    },
    {
      "cell_type": "code",
      "execution_count": 118,
      "metadata": {},
      "outputs": [
        {
          "output_type": "execute_result",
          "data": {
            "text/plain": [
              "                          Bank Name               City  ST   CERT  \\\n",
              "0                 Almena State Bank             Almena  KS  15426   \n",
              "1        First City Bank of Florida  Fort Walton Beach  FL  16748   \n",
              "2              The First State Bank      Barboursville  WV  14361   \n",
              "3                Ericson State Bank            Ericson  NE  18265   \n",
              "4  City National Bank of New Jersey             Newark  NJ  21111   \n",
              "\n",
              "        Acquiring Institution       Closing Date  \n",
              "0                 Equity Bank   October 23, 2020  \n",
              "1   United Fidelity Bank, fsb   October 16, 2020  \n",
              "2              MVB Bank, Inc.      April 3, 2020  \n",
              "3  Farmers and Merchants Bank  February 14, 2020  \n",
              "4             Industrial Bank   November 1, 2019  "
            ],
            "text/html": "<div>\n<style scoped>\n    .dataframe tbody tr th:only-of-type {\n        vertical-align: middle;\n    }\n\n    .dataframe tbody tr th {\n        vertical-align: top;\n    }\n\n    .dataframe thead th {\n        text-align: right;\n    }\n</style>\n<table border=\"1\" class=\"dataframe\">\n  <thead>\n    <tr style=\"text-align: right;\">\n      <th></th>\n      <th>Bank Name</th>\n      <th>City</th>\n      <th>ST</th>\n      <th>CERT</th>\n      <th>Acquiring Institution</th>\n      <th>Closing Date</th>\n    </tr>\n  </thead>\n  <tbody>\n    <tr>\n      <th>0</th>\n      <td>Almena State Bank</td>\n      <td>Almena</td>\n      <td>KS</td>\n      <td>15426</td>\n      <td>Equity Bank</td>\n      <td>October 23, 2020</td>\n    </tr>\n    <tr>\n      <th>1</th>\n      <td>First City Bank of Florida</td>\n      <td>Fort Walton Beach</td>\n      <td>FL</td>\n      <td>16748</td>\n      <td>United Fidelity Bank, fsb</td>\n      <td>October 16, 2020</td>\n    </tr>\n    <tr>\n      <th>2</th>\n      <td>The First State Bank</td>\n      <td>Barboursville</td>\n      <td>WV</td>\n      <td>14361</td>\n      <td>MVB Bank, Inc.</td>\n      <td>April 3, 2020</td>\n    </tr>\n    <tr>\n      <th>3</th>\n      <td>Ericson State Bank</td>\n      <td>Ericson</td>\n      <td>NE</td>\n      <td>18265</td>\n      <td>Farmers and Merchants Bank</td>\n      <td>February 14, 2020</td>\n    </tr>\n    <tr>\n      <th>4</th>\n      <td>City National Bank of New Jersey</td>\n      <td>Newark</td>\n      <td>NJ</td>\n      <td>21111</td>\n      <td>Industrial Bank</td>\n      <td>November 1, 2019</td>\n    </tr>\n  </tbody>\n</table>\n</div>"
          },
          "metadata": {},
          "execution_count": 118
        }
      ],
      "source": [
        "failures.head()"
      ]
    },
    {
      "cell_type": "code",
      "execution_count": 119,
      "metadata": {},
      "outputs": [],
      "source": [
        "tables = pd.read_html(\"https://uok.edu.pk/faculties/computerscience/msphd.php\")"
      ]
    },
    {
      "cell_type": "code",
      "execution_count": 120,
      "metadata": {},
      "outputs": [],
      "source": [
        "failures = tables[0]"
      ]
    },
    {
      "cell_type": "code",
      "execution_count": 122,
      "metadata": {},
      "outputs": [
        {
          "output_type": "execute_result",
          "data": {
            "text/plain": [
              "               0                                                  1  \\\n",
              "0            NaN                                         Semester-I   \n",
              "1  Course Number                                       Course Title   \n",
              "2       MSCS-701                    Theory of Computation and Logic   \n",
              "3       MSCS-703                    Advanced Database Systems (ADS)   \n",
              "4       MSCS-705   Parallel Computing : Hardware Systems (Optional)   \n",
              "5       MSCS-707                Machine Learning Systems (Optional)   \n",
              "6       MSCS-709  Topics in Computer Graphics and Image Analysis...   \n",
              "7       MSCS-711     Applied Software Project Management (Optional)   \n",
              "8       MSCS-713                                  Thesis (Optional)   \n",
              "\n",
              "              2  \n",
              "0           NaN  \n",
              "1  Credit Hours  \n",
              "2           3+0  \n",
              "3           2+1  \n",
              "4           2+1  \n",
              "5           2+1  \n",
              "6           2+1  \n",
              "7           2+1  \n",
              "8             3  "
            ],
            "text/html": "<div>\n<style scoped>\n    .dataframe tbody tr th:only-of-type {\n        vertical-align: middle;\n    }\n\n    .dataframe tbody tr th {\n        vertical-align: top;\n    }\n\n    .dataframe thead th {\n        text-align: right;\n    }\n</style>\n<table border=\"1\" class=\"dataframe\">\n  <thead>\n    <tr style=\"text-align: right;\">\n      <th></th>\n      <th>0</th>\n      <th>1</th>\n      <th>2</th>\n    </tr>\n  </thead>\n  <tbody>\n    <tr>\n      <th>0</th>\n      <td>NaN</td>\n      <td>Semester-I</td>\n      <td>NaN</td>\n    </tr>\n    <tr>\n      <th>1</th>\n      <td>Course Number</td>\n      <td>Course Title</td>\n      <td>Credit Hours</td>\n    </tr>\n    <tr>\n      <th>2</th>\n      <td>MSCS-701</td>\n      <td>Theory of Computation and Logic</td>\n      <td>3+0</td>\n    </tr>\n    <tr>\n      <th>3</th>\n      <td>MSCS-703</td>\n      <td>Advanced Database Systems (ADS)</td>\n      <td>2+1</td>\n    </tr>\n    <tr>\n      <th>4</th>\n      <td>MSCS-705</td>\n      <td>Parallel Computing : Hardware Systems (Optional)</td>\n      <td>2+1</td>\n    </tr>\n    <tr>\n      <th>5</th>\n      <td>MSCS-707</td>\n      <td>Machine Learning Systems (Optional)</td>\n      <td>2+1</td>\n    </tr>\n    <tr>\n      <th>6</th>\n      <td>MSCS-709</td>\n      <td>Topics in Computer Graphics and Image Analysis...</td>\n      <td>2+1</td>\n    </tr>\n    <tr>\n      <th>7</th>\n      <td>MSCS-711</td>\n      <td>Applied Software Project Management (Optional)</td>\n      <td>2+1</td>\n    </tr>\n    <tr>\n      <th>8</th>\n      <td>MSCS-713</td>\n      <td>Thesis (Optional)</td>\n      <td>3</td>\n    </tr>\n  </tbody>\n</table>\n</div>"
          },
          "metadata": {},
          "execution_count": 122
        }
      ],
      "source": [
        "failures"
      ]
    },
    {
      "cell_type": "code",
      "execution_count": 124,
      "metadata": {},
      "outputs": [
        {
          "output_type": "execute_result",
          "data": {
            "text/plain": [
              "                0                                                  1  \\\n",
              "0             NaN                                        Semester-II   \n",
              "1   Course Number                                       Course Title   \n",
              "2        MSCS-702           Advanced Algorithmic Design and Analysis   \n",
              "3        MSCS-704           Advanced Data Communication and Networks   \n",
              "4        MSCS-706           Parallel Computing : Software (Optional)   \n",
              "5        MSCS-708  Topics in Software Engineering : Formal Method...   \n",
              "6        MSCS-710                Bayesian Networks and AI (Optional)   \n",
              "7        MSCS-712                             Data Mining (Optional)   \n",
              "8        MSCS-714                                  Thesis (Optional)   \n",
              "9        MSCS-716                   Advanced Topics in AI (Optional)   \n",
              "10       MSCS-718  Most Recent Trends and Developments in Softwar...   \n",
              "\n",
              "               2  \n",
              "0            NaN  \n",
              "1   Credit Hours  \n",
              "2            2+1  \n",
              "3            2+1  \n",
              "4            2+1  \n",
              "5            2+1  \n",
              "6            2+1  \n",
              "7            2+1  \n",
              "8              3  \n",
              "9            2+1  \n",
              "10             3  "
            ],
            "text/html": "<div>\n<style scoped>\n    .dataframe tbody tr th:only-of-type {\n        vertical-align: middle;\n    }\n\n    .dataframe tbody tr th {\n        vertical-align: top;\n    }\n\n    .dataframe thead th {\n        text-align: right;\n    }\n</style>\n<table border=\"1\" class=\"dataframe\">\n  <thead>\n    <tr style=\"text-align: right;\">\n      <th></th>\n      <th>0</th>\n      <th>1</th>\n      <th>2</th>\n    </tr>\n  </thead>\n  <tbody>\n    <tr>\n      <th>0</th>\n      <td>NaN</td>\n      <td>Semester-II</td>\n      <td>NaN</td>\n    </tr>\n    <tr>\n      <th>1</th>\n      <td>Course Number</td>\n      <td>Course Title</td>\n      <td>Credit Hours</td>\n    </tr>\n    <tr>\n      <th>2</th>\n      <td>MSCS-702</td>\n      <td>Advanced Algorithmic Design and Analysis</td>\n      <td>2+1</td>\n    </tr>\n    <tr>\n      <th>3</th>\n      <td>MSCS-704</td>\n      <td>Advanced Data Communication and Networks</td>\n      <td>2+1</td>\n    </tr>\n    <tr>\n      <th>4</th>\n      <td>MSCS-706</td>\n      <td>Parallel Computing : Software (Optional)</td>\n      <td>2+1</td>\n    </tr>\n    <tr>\n      <th>5</th>\n      <td>MSCS-708</td>\n      <td>Topics in Software Engineering : Formal Method...</td>\n      <td>2+1</td>\n    </tr>\n    <tr>\n      <th>6</th>\n      <td>MSCS-710</td>\n      <td>Bayesian Networks and AI (Optional)</td>\n      <td>2+1</td>\n    </tr>\n    <tr>\n      <th>7</th>\n      <td>MSCS-712</td>\n      <td>Data Mining (Optional)</td>\n      <td>2+1</td>\n    </tr>\n    <tr>\n      <th>8</th>\n      <td>MSCS-714</td>\n      <td>Thesis (Optional)</td>\n      <td>3</td>\n    </tr>\n    <tr>\n      <th>9</th>\n      <td>MSCS-716</td>\n      <td>Advanced Topics in AI (Optional)</td>\n      <td>2+1</td>\n    </tr>\n    <tr>\n      <th>10</th>\n      <td>MSCS-718</td>\n      <td>Most Recent Trends and Developments in Softwar...</td>\n      <td>3</td>\n    </tr>\n  </tbody>\n</table>\n</div>"
          },
          "metadata": {},
          "execution_count": 124
        }
      ],
      "source": [
        "tables[1]"
      ]
    },
    {
      "cell_type": "code",
      "execution_count": 125,
      "metadata": {},
      "outputs": [],
      "source": [
        "from lxml import objectify"
      ]
    },
    {
      "cell_type": "code",
      "execution_count": 131,
      "metadata": {},
      "outputs": [],
      "source": [
        "# path = \"https://www.fdic.gov/resources/resolutions/bank-failures/failed-bank-list/banklist.xml\"\n",
        "# parsed = objectify.parse(open(path))"
      ]
    },
    {
      "cell_type": "code",
      "execution_count": null,
      "metadata": {},
      "outputs": [],
      "source": []
    }
  ]
}