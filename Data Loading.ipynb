{
  "nbformat": 4,
  "nbformat_minor": 0,
  "metadata": {
    "orig_nbformat": 2,
    "colab": {
      "name": "Data Loading.ipynb",
      "provenance": []
    },
    "kernelspec": {
      "name": "python3",
      "display_name": "Python 3"
    },
    "accelerator": "TPU"
  },
  "cells": [
    {
      "cell_type": "markdown",
      "metadata": {
        "id": "aR9T7toO9bJZ"
      },
      "source": [
        "Reading And Writing Data in Text Format (link with Google Colab)\n",
        "[![Open In Colab](https://colab.research.google.com/assets/colab-badge.svg)](https://colab.research.google.com/github/googlecolab/colabtools/blob/master/notebooks/colab-github-demo.ipynb)\n"
      ]
    },
    {
      "cell_type": "code",
      "metadata": {
        "id": "MIl9vrKz9pit"
      },
      "source": [
        "import pandas as pd\n",
        "import numpy as np"
      ],
      "execution_count": 132,
      "outputs": []
    },
    {
      "cell_type": "code",
      "metadata": {
        "id": "xBT09Br2NhgG"
      },
      "source": [
        "# !cat   /content/sample_data/california_housing_test.csv "
      ],
      "execution_count": 133,
      "outputs": []
    },
    {
      "cell_type": "code",
      "metadata": {
        "id": "EQPip1ypNlUY",
        "outputId": "c4660686-62e7-4151-cc7f-7e2383c1b7c3",
        "colab": {
          "base_uri": "https://localhost:8080/",
          "height": 142
        }
      },
      "source": [
        "# pd.read_csv(\"/content/sample_data/california_housing_test.csv\").head(3)"
      ],
      "execution_count": 134,
      "outputs": []
    },
    {
      "cell_type": "code",
      "metadata": {
        "id": "PK_SCc2KN0aX",
        "outputId": "3a112110-3b53-450d-cb4b-a2aa849639f6",
        "colab": {
          "base_uri": "https://localhost:8080/",
          "height": 419
        }
      },
      "source": [
        "# pd.read_csv(\"/content/sample_data/california_housing_test.csv\",header= None) # by default it's none"
      ],
      "execution_count": 135,
      "outputs": []
    },
    {
      "cell_type": "code",
      "metadata": {
        "id": "TG9EplpnOG0l"
      },
      "source": [
        "data = pd.read_csv('G:\\Data\\grupo-bimbo-inventory-demand\\producto_tabla\\producto_tabla.csv')"
      ],
      "execution_count": 136,
      "outputs": []
    },
    {
      "cell_type": "code",
      "execution_count": 137,
      "metadata": {},
      "outputs": [
        {
          "output_type": "execute_result",
          "data": {
            "text/plain": [
              "   Producto_ID                          NombreProducto\n",
              "0            0                       NO IDENTIFICADO 0\n",
              "1            9               Capuccino Moka 750g NES 9\n",
              "2           41  Bimbollos Ext sAjonjoli 6p 480g BIM 41\n",
              "3           53          Burritos Sincro 170g CU LON 53\n",
              "4           72     Div Tira Mini Doradita 4p 45g TR 72\n",
              "5           73       Pan Multigrano Linaza 540g BIM 73\n",
              "6           98            Tostado Integral 180g WON 98\n",
              "7           99                  Pan Blanco 567g WON 99\n",
              "8          100  Super Pan Bco Ajonjoli 680g SP WON 100\n",
              "9          106      Wonder 100pct mediano 475g WON 106"
            ],
            "text/html": "<div>\n<style scoped>\n    .dataframe tbody tr th:only-of-type {\n        vertical-align: middle;\n    }\n\n    .dataframe tbody tr th {\n        vertical-align: top;\n    }\n\n    .dataframe thead th {\n        text-align: right;\n    }\n</style>\n<table border=\"1\" class=\"dataframe\">\n  <thead>\n    <tr style=\"text-align: right;\">\n      <th></th>\n      <th>Producto_ID</th>\n      <th>NombreProducto</th>\n    </tr>\n  </thead>\n  <tbody>\n    <tr>\n      <th>0</th>\n      <td>0</td>\n      <td>NO IDENTIFICADO 0</td>\n    </tr>\n    <tr>\n      <th>1</th>\n      <td>9</td>\n      <td>Capuccino Moka 750g NES 9</td>\n    </tr>\n    <tr>\n      <th>2</th>\n      <td>41</td>\n      <td>Bimbollos Ext sAjonjoli 6p 480g BIM 41</td>\n    </tr>\n    <tr>\n      <th>3</th>\n      <td>53</td>\n      <td>Burritos Sincro 170g CU LON 53</td>\n    </tr>\n    <tr>\n      <th>4</th>\n      <td>72</td>\n      <td>Div Tira Mini Doradita 4p 45g TR 72</td>\n    </tr>\n    <tr>\n      <th>5</th>\n      <td>73</td>\n      <td>Pan Multigrano Linaza 540g BIM 73</td>\n    </tr>\n    <tr>\n      <th>6</th>\n      <td>98</td>\n      <td>Tostado Integral 180g WON 98</td>\n    </tr>\n    <tr>\n      <th>7</th>\n      <td>99</td>\n      <td>Pan Blanco 567g WON 99</td>\n    </tr>\n    <tr>\n      <th>8</th>\n      <td>100</td>\n      <td>Super Pan Bco Ajonjoli 680g SP WON 100</td>\n    </tr>\n    <tr>\n      <th>9</th>\n      <td>106</td>\n      <td>Wonder 100pct mediano 475g WON 106</td>\n    </tr>\n  </tbody>\n</table>\n</div>"
          },
          "metadata": {},
          "execution_count": 137
        }
      ],
      "source": [
        "data.head(10)"
      ]
    },
    {
      "cell_type": "code",
      "execution_count": 138,
      "metadata": {},
      "outputs": [
        {
          "output_type": "execute_result",
          "data": {
            "text/plain": [
              "(2592, 2)"
            ]
          },
          "metadata": {},
          "execution_count": 138
        }
      ],
      "source": [
        "data.shape"
      ]
    },
    {
      "cell_type": "code",
      "execution_count": 139,
      "metadata": {},
      "outputs": [],
      "source": [
        "data = pd.read_csv('G:\\Data\\grupo-bimbo-inventory-demand\\producto_tabla\\producto_tabla.csv',names=['Product ID','Number Product']) # reanme column names"
      ]
    },
    {
      "cell_type": "code",
      "execution_count": 140,
      "metadata": {},
      "outputs": [
        {
          "output_type": "execute_result",
          "data": {
            "text/plain": [
              "    Product ID                          Number Product\n",
              "0  Producto_ID                          NombreProducto\n",
              "1            0                       NO IDENTIFICADO 0\n",
              "2            9               Capuccino Moka 750g NES 9\n",
              "3           41  Bimbollos Ext sAjonjoli 6p 480g BIM 41\n",
              "4           53          Burritos Sincro 170g CU LON 53\n",
              "5           72     Div Tira Mini Doradita 4p 45g TR 72\n",
              "6           73       Pan Multigrano Linaza 540g BIM 73\n",
              "7           98            Tostado Integral 180g WON 98\n",
              "8           99                  Pan Blanco 567g WON 99\n",
              "9          100  Super Pan Bco Ajonjoli 680g SP WON 100"
            ],
            "text/html": "<div>\n<style scoped>\n    .dataframe tbody tr th:only-of-type {\n        vertical-align: middle;\n    }\n\n    .dataframe tbody tr th {\n        vertical-align: top;\n    }\n\n    .dataframe thead th {\n        text-align: right;\n    }\n</style>\n<table border=\"1\" class=\"dataframe\">\n  <thead>\n    <tr style=\"text-align: right;\">\n      <th></th>\n      <th>Product ID</th>\n      <th>Number Product</th>\n    </tr>\n  </thead>\n  <tbody>\n    <tr>\n      <th>0</th>\n      <td>Producto_ID</td>\n      <td>NombreProducto</td>\n    </tr>\n    <tr>\n      <th>1</th>\n      <td>0</td>\n      <td>NO IDENTIFICADO 0</td>\n    </tr>\n    <tr>\n      <th>2</th>\n      <td>9</td>\n      <td>Capuccino Moka 750g NES 9</td>\n    </tr>\n    <tr>\n      <th>3</th>\n      <td>41</td>\n      <td>Bimbollos Ext sAjonjoli 6p 480g BIM 41</td>\n    </tr>\n    <tr>\n      <th>4</th>\n      <td>53</td>\n      <td>Burritos Sincro 170g CU LON 53</td>\n    </tr>\n    <tr>\n      <th>5</th>\n      <td>72</td>\n      <td>Div Tira Mini Doradita 4p 45g TR 72</td>\n    </tr>\n    <tr>\n      <th>6</th>\n      <td>73</td>\n      <td>Pan Multigrano Linaza 540g BIM 73</td>\n    </tr>\n    <tr>\n      <th>7</th>\n      <td>98</td>\n      <td>Tostado Integral 180g WON 98</td>\n    </tr>\n    <tr>\n      <th>8</th>\n      <td>99</td>\n      <td>Pan Blanco 567g WON 99</td>\n    </tr>\n    <tr>\n      <th>9</th>\n      <td>100</td>\n      <td>Super Pan Bco Ajonjoli 680g SP WON 100</td>\n    </tr>\n  </tbody>\n</table>\n</div>"
          },
          "metadata": {},
          "execution_count": 140
        }
      ],
      "source": [
        "data.head(10)"
      ]
    },
    {
      "cell_type": "code",
      "execution_count": 141,
      "metadata": {},
      "outputs": [],
      "source": [
        "data = pd.read_csv('G:\\Data\\grupo-bimbo-inventory-demand\\producto_tabla\\producto_tabla.csv',sep=',')"
      ]
    },
    {
      "cell_type": "code",
      "execution_count": 142,
      "metadata": {},
      "outputs": [
        {
          "output_type": "execute_result",
          "data": {
            "text/plain": [
              "   Producto_ID                          NombreProducto\n",
              "0            0                       NO IDENTIFICADO 0\n",
              "1            9               Capuccino Moka 750g NES 9\n",
              "2           41  Bimbollos Ext sAjonjoli 6p 480g BIM 41\n",
              "3           53          Burritos Sincro 170g CU LON 53\n",
              "4           72     Div Tira Mini Doradita 4p 45g TR 72"
            ],
            "text/html": "<div>\n<style scoped>\n    .dataframe tbody tr th:only-of-type {\n        vertical-align: middle;\n    }\n\n    .dataframe tbody tr th {\n        vertical-align: top;\n    }\n\n    .dataframe thead th {\n        text-align: right;\n    }\n</style>\n<table border=\"1\" class=\"dataframe\">\n  <thead>\n    <tr style=\"text-align: right;\">\n      <th></th>\n      <th>Producto_ID</th>\n      <th>NombreProducto</th>\n    </tr>\n  </thead>\n  <tbody>\n    <tr>\n      <th>0</th>\n      <td>0</td>\n      <td>NO IDENTIFICADO 0</td>\n    </tr>\n    <tr>\n      <th>1</th>\n      <td>9</td>\n      <td>Capuccino Moka 750g NES 9</td>\n    </tr>\n    <tr>\n      <th>2</th>\n      <td>41</td>\n      <td>Bimbollos Ext sAjonjoli 6p 480g BIM 41</td>\n    </tr>\n    <tr>\n      <th>3</th>\n      <td>53</td>\n      <td>Burritos Sincro 170g CU LON 53</td>\n    </tr>\n    <tr>\n      <th>4</th>\n      <td>72</td>\n      <td>Div Tira Mini Doradita 4p 45g TR 72</td>\n    </tr>\n  </tbody>\n</table>\n</div>"
          },
          "metadata": {},
          "execution_count": 142
        }
      ],
      "source": [
        "data.head()"
      ]
    },
    {
      "cell_type": "code",
      "execution_count": 143,
      "metadata": {},
      "outputs": [
        {
          "output_type": "execute_result",
          "data": {
            "text/plain": [
              "RangeIndex(start=0, stop=2592, step=1)"
            ]
          },
          "metadata": {},
          "execution_count": 143
        }
      ],
      "source": [
        "data.index"
      ]
    },
    {
      "cell_type": "code",
      "execution_count": 144,
      "metadata": {},
      "outputs": [],
      "source": [
        "data.columns.name = 'Columns'"
      ]
    },
    {
      "cell_type": "code",
      "execution_count": 145,
      "metadata": {},
      "outputs": [
        {
          "output_type": "execute_result",
          "data": {
            "text/plain": [
              "'Columns'"
            ]
          },
          "metadata": {},
          "execution_count": 145
        }
      ],
      "source": [
        "data.columns.name"
      ]
    },
    {
      "cell_type": "code",
      "execution_count": 146,
      "metadata": {},
      "outputs": [
        {
          "output_type": "execute_result",
          "data": {
            "text/plain": [
              "Columns\n",
              "Producto_ID       0\n",
              "NombreProducto    0\n",
              "dtype: int64"
            ]
          },
          "metadata": {},
          "execution_count": 146
        }
      ],
      "source": [
        "data.isnull().sum() # its means there is no null value in our data"
      ]
    },
    {
      "cell_type": "code",
      "execution_count": 147,
      "metadata": {},
      "outputs": [],
      "source": [
        "data = pd.read_csv('G:\\Data\\grupo-bimbo-inventory-demand\\producto_tabla\\producto_tabla.csv',skiprows=2500)"
      ]
    },
    {
      "cell_type": "code",
      "execution_count": 148,
      "metadata": {},
      "outputs": [
        {
          "output_type": "execute_result",
          "data": {
            "text/plain": [
              "(92, 2)"
            ]
          },
          "metadata": {},
          "execution_count": 148
        }
      ],
      "source": [
        "data.shape"
      ]
    },
    {
      "cell_type": "code",
      "execution_count": 170,
      "metadata": {},
      "outputs": [
        {
          "output_type": "execute_result",
          "data": {
            "text/plain": [
              "   Producto_ID                          NombreProducto\n",
              "0            0                       NO IDENTIFICADO 0\n",
              "1            9               Capuccino Moka 750g NES 9\n",
              "2           41  Bimbollos Ext sAjonjoli 6p 480g BIM 41\n",
              "3           53          Burritos Sincro 170g CU LON 53\n",
              "4           72     Div Tira Mini Doradita 4p 45g TR 72"
            ],
            "text/html": "<div>\n<style scoped>\n    .dataframe tbody tr th:only-of-type {\n        vertical-align: middle;\n    }\n\n    .dataframe tbody tr th {\n        vertical-align: top;\n    }\n\n    .dataframe thead th {\n        text-align: right;\n    }\n</style>\n<table border=\"1\" class=\"dataframe\">\n  <thead>\n    <tr style=\"text-align: right;\">\n      <th></th>\n      <th>Producto_ID</th>\n      <th>NombreProducto</th>\n    </tr>\n  </thead>\n  <tbody>\n    <tr>\n      <th>0</th>\n      <td>0</td>\n      <td>NO IDENTIFICADO 0</td>\n    </tr>\n    <tr>\n      <th>1</th>\n      <td>9</td>\n      <td>Capuccino Moka 750g NES 9</td>\n    </tr>\n    <tr>\n      <th>2</th>\n      <td>41</td>\n      <td>Bimbollos Ext sAjonjoli 6p 480g BIM 41</td>\n    </tr>\n    <tr>\n      <th>3</th>\n      <td>53</td>\n      <td>Burritos Sincro 170g CU LON 53</td>\n    </tr>\n    <tr>\n      <th>4</th>\n      <td>72</td>\n      <td>Div Tira Mini Doradita 4p 45g TR 72</td>\n    </tr>\n  </tbody>\n</table>\n</div>"
          },
          "metadata": {},
          "execution_count": 170
        }
      ],
      "source": [
        "data.head()"
      ]
    },
    {
      "cell_type": "code",
      "execution_count": 150,
      "metadata": {},
      "outputs": [],
      "source": [
        "pd.options.display.max_rows = 10000"
      ]
    },
    {
      "cell_type": "code",
      "execution_count": 151,
      "metadata": {},
      "outputs": [],
      "source": [
        "data = pd.read_csv('G:\\Data\\grupo-bimbo-inventory-demand\\producto_tabla\\producto_tabla.csv')"
      ]
    },
    {
      "cell_type": "code",
      "execution_count": 152,
      "metadata": {},
      "outputs": [
        {
          "output_type": "execute_result",
          "data": {
            "text/plain": [
              "   Producto_ID                          NombreProducto\n",
              "0            0                       NO IDENTIFICADO 0\n",
              "1            9               Capuccino Moka 750g NES 9\n",
              "2           41  Bimbollos Ext sAjonjoli 6p 480g BIM 41\n",
              "3           53          Burritos Sincro 170g CU LON 53\n",
              "4           72     Div Tira Mini Doradita 4p 45g TR 72\n",
              "5           73       Pan Multigrano Linaza 540g BIM 73\n",
              "6           98            Tostado Integral 180g WON 98\n",
              "7           99                  Pan Blanco 567g WON 99\n",
              "8          100  Super Pan Bco Ajonjoli 680g SP WON 100\n",
              "9          106      Wonder 100pct mediano 475g WON 106"
            ],
            "text/html": "<div>\n<style scoped>\n    .dataframe tbody tr th:only-of-type {\n        vertical-align: middle;\n    }\n\n    .dataframe tbody tr th {\n        vertical-align: top;\n    }\n\n    .dataframe thead th {\n        text-align: right;\n    }\n</style>\n<table border=\"1\" class=\"dataframe\">\n  <thead>\n    <tr style=\"text-align: right;\">\n      <th></th>\n      <th>Producto_ID</th>\n      <th>NombreProducto</th>\n    </tr>\n  </thead>\n  <tbody>\n    <tr>\n      <th>0</th>\n      <td>0</td>\n      <td>NO IDENTIFICADO 0</td>\n    </tr>\n    <tr>\n      <th>1</th>\n      <td>9</td>\n      <td>Capuccino Moka 750g NES 9</td>\n    </tr>\n    <tr>\n      <th>2</th>\n      <td>41</td>\n      <td>Bimbollos Ext sAjonjoli 6p 480g BIM 41</td>\n    </tr>\n    <tr>\n      <th>3</th>\n      <td>53</td>\n      <td>Burritos Sincro 170g CU LON 53</td>\n    </tr>\n    <tr>\n      <th>4</th>\n      <td>72</td>\n      <td>Div Tira Mini Doradita 4p 45g TR 72</td>\n    </tr>\n    <tr>\n      <th>5</th>\n      <td>73</td>\n      <td>Pan Multigrano Linaza 540g BIM 73</td>\n    </tr>\n    <tr>\n      <th>6</th>\n      <td>98</td>\n      <td>Tostado Integral 180g WON 98</td>\n    </tr>\n    <tr>\n      <th>7</th>\n      <td>99</td>\n      <td>Pan Blanco 567g WON 99</td>\n    </tr>\n    <tr>\n      <th>8</th>\n      <td>100</td>\n      <td>Super Pan Bco Ajonjoli 680g SP WON 100</td>\n    </tr>\n    <tr>\n      <th>9</th>\n      <td>106</td>\n      <td>Wonder 100pct mediano 475g WON 106</td>\n    </tr>\n  </tbody>\n</table>\n</div>"
          },
          "metadata": {},
          "execution_count": 152
        }
      ],
      "source": [
        "data.head(10)"
      ]
    },
    {
      "source": [
        "### Writing Data To Text Format"
      ],
      "cell_type": "markdown",
      "metadata": {}
    },
    {
      "cell_type": "code",
      "execution_count": 153,
      "metadata": {},
      "outputs": [],
      "source": [
        "data = pd.read_csv('G:\\Data\\grupo-bimbo-inventory-demand\\producto_tabla\\producto_tabla.csv')"
      ]
    },
    {
      "cell_type": "code",
      "execution_count": 154,
      "metadata": {},
      "outputs": [],
      "source": [
        "data.to_csv(\"G:\\\\Data\\\\grupo-bimbo-inventory-demand\\\\producto_tabla\\\\new_producto_tabla.csv\") # created new csv file"
      ]
    },
    {
      "cell_type": "code",
      "execution_count": 155,
      "metadata": {},
      "outputs": [],
      "source": [
        "date = pd.date_range('1/1/2020',periods=10)"
      ]
    },
    {
      "cell_type": "code",
      "execution_count": 156,
      "metadata": {},
      "outputs": [
        {
          "output_type": "execute_result",
          "data": {
            "text/plain": [
              "DatetimeIndex(['2020-01-01', '2020-01-02', '2020-01-03', '2020-01-04',\n",
              "               '2020-01-05', '2020-01-06', '2020-01-07', '2020-01-08',\n",
              "               '2020-01-09', '2020-01-10'],\n",
              "              dtype='datetime64[ns]', freq='D')"
            ]
          },
          "metadata": {},
          "execution_count": 156
        }
      ],
      "source": [
        "date"
      ]
    },
    {
      "cell_type": "code",
      "execution_count": 157,
      "metadata": {},
      "outputs": [],
      "source": [
        "date = pd.date_range('1/1/2020',periods=10,freq='M')"
      ]
    },
    {
      "cell_type": "code",
      "execution_count": 158,
      "metadata": {},
      "outputs": [
        {
          "output_type": "execute_result",
          "data": {
            "text/plain": [
              "DatetimeIndex(['2020-01-31', '2020-02-29', '2020-03-31', '2020-04-30',\n",
              "               '2020-05-31', '2020-06-30', '2020-07-31', '2020-08-31',\n",
              "               '2020-09-30', '2020-10-31'],\n",
              "              dtype='datetime64[ns]', freq='M')"
            ]
          },
          "metadata": {},
          "execution_count": 158
        }
      ],
      "source": [
        "date"
      ]
    },
    {
      "source": [
        "### JSON Data\n",
        "\n",
        "- javascript object notation"
      ],
      "cell_type": "markdown",
      "metadata": {}
    },
    {
      "cell_type": "code",
      "execution_count": 159,
      "metadata": {},
      "outputs": [],
      "source": [
        "import json # impoted jason "
      ]
    },
    {
      "cell_type": "code",
      "execution_count": 160,
      "metadata": {},
      "outputs": [],
      "source": [
        "obj = \"\"\"\n",
        "{\"name\":\"wes\",\n",
        "\"places_lived\":[\"united state\",\"spain\",\"germany\"],\n",
        "\"pet\":null,\n",
        "\"siblings\":[{\"name\":\"scott\",\"age\":30,\"pets\":[\"zeus\",\"zuko\"]},\n",
        "{\"name\":\"katie\",\"age\":38,\n",
        "\"pets\":[\"sixes\",\"stache\",\"cisco\"]}]\n",
        "}\n",
        "\"\"\"\n",
        "\n",
        "# obj2= \"\"\"{\"array\": [1,2,3],\"boolean\": true,\"color\": \"gold\",\"null\": null,\"number\": 123, \"object\": { \"a\": \"b\",\"c\": \"d\" }, \"string\": \"Hello World\"}}\"\"\""
      ]
    },
    {
      "cell_type": "code",
      "execution_count": 161,
      "metadata": {},
      "outputs": [],
      "source": [
        "result = json.loads(obj)"
      ]
    },
    {
      "cell_type": "code",
      "execution_count": 162,
      "metadata": {},
      "outputs": [
        {
          "output_type": "execute_result",
          "data": {
            "text/plain": [
              "{'name': 'wes',\n",
              " 'places_lived': ['united state', 'spain', 'germany'],\n",
              " 'pet': None,\n",
              " 'siblings': [{'name': 'scott', 'age': 30, 'pets': ['zeus', 'zuko']},\n",
              "  {'name': 'katie', 'age': 38, 'pets': ['sixes', 'stache', 'cisco']}]}"
            ]
          },
          "metadata": {},
          "execution_count": 162
        }
      ],
      "source": [
        "result"
      ]
    },
    {
      "cell_type": "code",
      "execution_count": 163,
      "metadata": {},
      "outputs": [],
      "source": [
        "# Convert JSON data to Dataframe\n",
        "siblilings = pd.DataFrame(result['siblings'],columns=['name','age'])"
      ]
    },
    {
      "cell_type": "code",
      "execution_count": 164,
      "metadata": {},
      "outputs": [
        {
          "output_type": "execute_result",
          "data": {
            "text/plain": [
              "    name  age\n",
              "0  scott   30\n",
              "1  katie   38"
            ],
            "text/html": "<div>\n<style scoped>\n    .dataframe tbody tr th:only-of-type {\n        vertical-align: middle;\n    }\n\n    .dataframe tbody tr th {\n        vertical-align: top;\n    }\n\n    .dataframe thead th {\n        text-align: right;\n    }\n</style>\n<table border=\"1\" class=\"dataframe\">\n  <thead>\n    <tr style=\"text-align: right;\">\n      <th></th>\n      <th>name</th>\n      <th>age</th>\n    </tr>\n  </thead>\n  <tbody>\n    <tr>\n      <th>0</th>\n      <td>scott</td>\n      <td>30</td>\n    </tr>\n    <tr>\n      <th>1</th>\n      <td>katie</td>\n      <td>38</td>\n    </tr>\n  </tbody>\n</table>\n</div>"
          },
          "metadata": {},
          "execution_count": 164
        }
      ],
      "source": [
        "siblilings"
      ]
    },
    {
      "cell_type": "code",
      "execution_count": 165,
      "metadata": {},
      "outputs": [],
      "source": [
        "tables = pd.read_html(\"https://www.fdic.gov/bank/individual/failed/banklist.html\")"
      ]
    },
    {
      "cell_type": "code",
      "execution_count": 166,
      "metadata": {},
      "outputs": [
        {
          "output_type": "execute_result",
          "data": {
            "text/plain": [
              "1"
            ]
          },
          "metadata": {},
          "execution_count": 166
        }
      ],
      "source": [
        "len(tables)"
      ]
    },
    {
      "cell_type": "code",
      "execution_count": 167,
      "metadata": {},
      "outputs": [],
      "source": [
        "failures = tables[0]"
      ]
    },
    {
      "cell_type": "code",
      "execution_count": 168,
      "metadata": {},
      "outputs": [
        {
          "output_type": "execute_result",
          "data": {
            "text/plain": [
              "                          Bank Name               City  ST   CERT  \\\n",
              "0                 Almena State Bank             Almena  KS  15426   \n",
              "1        First City Bank of Florida  Fort Walton Beach  FL  16748   \n",
              "2              The First State Bank      Barboursville  WV  14361   \n",
              "3                Ericson State Bank            Ericson  NE  18265   \n",
              "4  City National Bank of New Jersey             Newark  NJ  21111   \n",
              "\n",
              "        Acquiring Institution       Closing Date  \n",
              "0                 Equity Bank   October 23, 2020  \n",
              "1   United Fidelity Bank, fsb   October 16, 2020  \n",
              "2              MVB Bank, Inc.      April 3, 2020  \n",
              "3  Farmers and Merchants Bank  February 14, 2020  \n",
              "4             Industrial Bank   November 1, 2019  "
            ],
            "text/html": "<div>\n<style scoped>\n    .dataframe tbody tr th:only-of-type {\n        vertical-align: middle;\n    }\n\n    .dataframe tbody tr th {\n        vertical-align: top;\n    }\n\n    .dataframe thead th {\n        text-align: right;\n    }\n</style>\n<table border=\"1\" class=\"dataframe\">\n  <thead>\n    <tr style=\"text-align: right;\">\n      <th></th>\n      <th>Bank Name</th>\n      <th>City</th>\n      <th>ST</th>\n      <th>CERT</th>\n      <th>Acquiring Institution</th>\n      <th>Closing Date</th>\n    </tr>\n  </thead>\n  <tbody>\n    <tr>\n      <th>0</th>\n      <td>Almena State Bank</td>\n      <td>Almena</td>\n      <td>KS</td>\n      <td>15426</td>\n      <td>Equity Bank</td>\n      <td>October 23, 2020</td>\n    </tr>\n    <tr>\n      <th>1</th>\n      <td>First City Bank of Florida</td>\n      <td>Fort Walton Beach</td>\n      <td>FL</td>\n      <td>16748</td>\n      <td>United Fidelity Bank, fsb</td>\n      <td>October 16, 2020</td>\n    </tr>\n    <tr>\n      <th>2</th>\n      <td>The First State Bank</td>\n      <td>Barboursville</td>\n      <td>WV</td>\n      <td>14361</td>\n      <td>MVB Bank, Inc.</td>\n      <td>April 3, 2020</td>\n    </tr>\n    <tr>\n      <th>3</th>\n      <td>Ericson State Bank</td>\n      <td>Ericson</td>\n      <td>NE</td>\n      <td>18265</td>\n      <td>Farmers and Merchants Bank</td>\n      <td>February 14, 2020</td>\n    </tr>\n    <tr>\n      <th>4</th>\n      <td>City National Bank of New Jersey</td>\n      <td>Newark</td>\n      <td>NJ</td>\n      <td>21111</td>\n      <td>Industrial Bank</td>\n      <td>November 1, 2019</td>\n    </tr>\n  </tbody>\n</table>\n</div>"
          },
          "metadata": {},
          "execution_count": 168
        }
      ],
      "source": [
        "failures.head()"
      ]
    },
    {
      "cell_type": "code",
      "execution_count": 169,
      "metadata": {},
      "outputs": [],
      "source": [
        "tables = pd.read_html(\"https://uok.edu.pk/faculties/computerscience/msphd.php\")"
      ]
    },
    {
      "cell_type": "code",
      "execution_count": 171,
      "metadata": {},
      "outputs": [],
      "source": [
        "failures = tables[0]"
      ]
    },
    {
      "cell_type": "code",
      "execution_count": 172,
      "metadata": {},
      "outputs": [
        {
          "output_type": "execute_result",
          "data": {
            "text/plain": [
              "               0                                                  1  \\\n",
              "0            NaN                                         Semester-I   \n",
              "1  Course Number                                       Course Title   \n",
              "2       MSCS-701                    Theory of Computation and Logic   \n",
              "3       MSCS-703                    Advanced Database Systems (ADS)   \n",
              "4       MSCS-705   Parallel Computing : Hardware Systems (Optional)   \n",
              "5       MSCS-707                Machine Learning Systems (Optional)   \n",
              "6       MSCS-709  Topics in Computer Graphics and Image Analysis...   \n",
              "7       MSCS-711     Applied Software Project Management (Optional)   \n",
              "8       MSCS-713                                  Thesis (Optional)   \n",
              "\n",
              "              2  \n",
              "0           NaN  \n",
              "1  Credit Hours  \n",
              "2           3+0  \n",
              "3           2+1  \n",
              "4           2+1  \n",
              "5           2+1  \n",
              "6           2+1  \n",
              "7           2+1  \n",
              "8             3  "
            ],
            "text/html": "<div>\n<style scoped>\n    .dataframe tbody tr th:only-of-type {\n        vertical-align: middle;\n    }\n\n    .dataframe tbody tr th {\n        vertical-align: top;\n    }\n\n    .dataframe thead th {\n        text-align: right;\n    }\n</style>\n<table border=\"1\" class=\"dataframe\">\n  <thead>\n    <tr style=\"text-align: right;\">\n      <th></th>\n      <th>0</th>\n      <th>1</th>\n      <th>2</th>\n    </tr>\n  </thead>\n  <tbody>\n    <tr>\n      <th>0</th>\n      <td>NaN</td>\n      <td>Semester-I</td>\n      <td>NaN</td>\n    </tr>\n    <tr>\n      <th>1</th>\n      <td>Course Number</td>\n      <td>Course Title</td>\n      <td>Credit Hours</td>\n    </tr>\n    <tr>\n      <th>2</th>\n      <td>MSCS-701</td>\n      <td>Theory of Computation and Logic</td>\n      <td>3+0</td>\n    </tr>\n    <tr>\n      <th>3</th>\n      <td>MSCS-703</td>\n      <td>Advanced Database Systems (ADS)</td>\n      <td>2+1</td>\n    </tr>\n    <tr>\n      <th>4</th>\n      <td>MSCS-705</td>\n      <td>Parallel Computing : Hardware Systems (Optional)</td>\n      <td>2+1</td>\n    </tr>\n    <tr>\n      <th>5</th>\n      <td>MSCS-707</td>\n      <td>Machine Learning Systems (Optional)</td>\n      <td>2+1</td>\n    </tr>\n    <tr>\n      <th>6</th>\n      <td>MSCS-709</td>\n      <td>Topics in Computer Graphics and Image Analysis...</td>\n      <td>2+1</td>\n    </tr>\n    <tr>\n      <th>7</th>\n      <td>MSCS-711</td>\n      <td>Applied Software Project Management (Optional)</td>\n      <td>2+1</td>\n    </tr>\n    <tr>\n      <th>8</th>\n      <td>MSCS-713</td>\n      <td>Thesis (Optional)</td>\n      <td>3</td>\n    </tr>\n  </tbody>\n</table>\n</div>"
          },
          "metadata": {},
          "execution_count": 172
        }
      ],
      "source": [
        "failures"
      ]
    },
    {
      "cell_type": "code",
      "execution_count": 173,
      "metadata": {},
      "outputs": [
        {
          "output_type": "execute_result",
          "data": {
            "text/plain": [
              "                0                                                  1  \\\n",
              "0             NaN                                        Semester-II   \n",
              "1   Course Number                                       Course Title   \n",
              "2        MSCS-702           Advanced Algorithmic Design and Analysis   \n",
              "3        MSCS-704           Advanced Data Communication and Networks   \n",
              "4        MSCS-706           Parallel Computing : Software (Optional)   \n",
              "5        MSCS-708  Topics in Software Engineering : Formal Method...   \n",
              "6        MSCS-710                Bayesian Networks and AI (Optional)   \n",
              "7        MSCS-712                             Data Mining (Optional)   \n",
              "8        MSCS-714                                  Thesis (Optional)   \n",
              "9        MSCS-716                   Advanced Topics in AI (Optional)   \n",
              "10       MSCS-718  Most Recent Trends and Developments in Softwar...   \n",
              "\n",
              "               2  \n",
              "0            NaN  \n",
              "1   Credit Hours  \n",
              "2            2+1  \n",
              "3            2+1  \n",
              "4            2+1  \n",
              "5            2+1  \n",
              "6            2+1  \n",
              "7            2+1  \n",
              "8              3  \n",
              "9            2+1  \n",
              "10             3  "
            ],
            "text/html": "<div>\n<style scoped>\n    .dataframe tbody tr th:only-of-type {\n        vertical-align: middle;\n    }\n\n    .dataframe tbody tr th {\n        vertical-align: top;\n    }\n\n    .dataframe thead th {\n        text-align: right;\n    }\n</style>\n<table border=\"1\" class=\"dataframe\">\n  <thead>\n    <tr style=\"text-align: right;\">\n      <th></th>\n      <th>0</th>\n      <th>1</th>\n      <th>2</th>\n    </tr>\n  </thead>\n  <tbody>\n    <tr>\n      <th>0</th>\n      <td>NaN</td>\n      <td>Semester-II</td>\n      <td>NaN</td>\n    </tr>\n    <tr>\n      <th>1</th>\n      <td>Course Number</td>\n      <td>Course Title</td>\n      <td>Credit Hours</td>\n    </tr>\n    <tr>\n      <th>2</th>\n      <td>MSCS-702</td>\n      <td>Advanced Algorithmic Design and Analysis</td>\n      <td>2+1</td>\n    </tr>\n    <tr>\n      <th>3</th>\n      <td>MSCS-704</td>\n      <td>Advanced Data Communication and Networks</td>\n      <td>2+1</td>\n    </tr>\n    <tr>\n      <th>4</th>\n      <td>MSCS-706</td>\n      <td>Parallel Computing : Software (Optional)</td>\n      <td>2+1</td>\n    </tr>\n    <tr>\n      <th>5</th>\n      <td>MSCS-708</td>\n      <td>Topics in Software Engineering : Formal Method...</td>\n      <td>2+1</td>\n    </tr>\n    <tr>\n      <th>6</th>\n      <td>MSCS-710</td>\n      <td>Bayesian Networks and AI (Optional)</td>\n      <td>2+1</td>\n    </tr>\n    <tr>\n      <th>7</th>\n      <td>MSCS-712</td>\n      <td>Data Mining (Optional)</td>\n      <td>2+1</td>\n    </tr>\n    <tr>\n      <th>8</th>\n      <td>MSCS-714</td>\n      <td>Thesis (Optional)</td>\n      <td>3</td>\n    </tr>\n    <tr>\n      <th>9</th>\n      <td>MSCS-716</td>\n      <td>Advanced Topics in AI (Optional)</td>\n      <td>2+1</td>\n    </tr>\n    <tr>\n      <th>10</th>\n      <td>MSCS-718</td>\n      <td>Most Recent Trends and Developments in Softwar...</td>\n      <td>3</td>\n    </tr>\n  </tbody>\n</table>\n</div>"
          },
          "metadata": {},
          "execution_count": 173
        }
      ],
      "source": [
        "tables[1]"
      ]
    },
    {
      "cell_type": "code",
      "execution_count": 174,
      "metadata": {},
      "outputs": [],
      "source": [
        "from lxml import objectify"
      ]
    },
    {
      "cell_type": "code",
      "execution_count": 175,
      "metadata": {},
      "outputs": [],
      "source": [
        "# path = \"https://www.fdic.gov/resources/resolutions/bank-failures/failed-bank-list/banklist.xml\"\n",
        "# parsed = objectify.parse(open(path))"
      ]
    },
    {
      "cell_type": "code",
      "execution_count": 203,
      "metadata": {},
      "outputs": [],
      "source": [
        "xlsx1 = pd.read_excel('G:\\\\SPEED SUMMARY.xlsx')"
      ]
    },
    {
      "cell_type": "code",
      "execution_count": 206,
      "metadata": {},
      "outputs": [
        {
          "output_type": "execute_result",
          "data": {
            "text/plain": [
              "  Tag Number     Electronic ID              NLIS Breeder PIC  \\\n",
              "0    SPD691B  942 000035285607  QFCX0257ZEQ00255    QFCX0257   \n",
              "1     SPD902  942 000035284901  QFCX0257ZEQ00206    QFCX0257   \n",
              "2     SPD858  942 000030134997  TKBT0166ZBP29932    TKBT0166   \n",
              "3     SPD812  982 123708965986  QCBM0234XBP02958    QCBM0234   \n",
              "4     SPD897  942 000030205790  TKBT0166ZBP30548    TKBT0166   \n",
              "\n",
              "          Breeder Property                Date  Live Weight (kg)  Dentition  \\\n",
              "0  Feedlot Replacement Tag 2020-07-20 12:06:00               0.0        4.0   \n",
              "1  Feedlot Replacement Tag 2020-07-20 15:44:00             345.0        2.0   \n",
              "2       Tobermorey Station 2020-07-20 15:20:00             359.0        4.0   \n",
              "3    Mazzer Lawrence Kevin 2020-07-20 14:54:00             362.0        4.0   \n",
              "4       Tobermorey Station 2020-07-20 15:41:00             367.0        2.0   \n",
              "\n",
              "              Vendor     Sex      Pen       Status      Confirmation  \\\n",
              "0  Redrock Cattle Co   Steer  17 & 18  Slaughtered  942 000035285607   \n",
              "1  Redrock Cattle Co  Heifer       16  Slaughtered  942 000035284901   \n",
              "2  Redrock Cattle Co  Heifer       16  Slaughtered  942 000030134997   \n",
              "3          M I Speed   Steer       20  Slaughtered  982 123708965986   \n",
              "4  Redrock Cattle Co  Heifer       16  Slaughtered  942 000030205790   \n",
              "\n",
              "         Truck No  Exit Date  \n",
              "0       1st truck 2020-10-27  \n",
              "1  1st only truck 2020-10-29  \n",
              "2  1st only truck 2020-10-29  \n",
              "3       2nd truck 2020-10-28  \n",
              "4  1st only truck 2020-10-29  "
            ],
            "text/html": "<div>\n<style scoped>\n    .dataframe tbody tr th:only-of-type {\n        vertical-align: middle;\n    }\n\n    .dataframe tbody tr th {\n        vertical-align: top;\n    }\n\n    .dataframe thead th {\n        text-align: right;\n    }\n</style>\n<table border=\"1\" class=\"dataframe\">\n  <thead>\n    <tr style=\"text-align: right;\">\n      <th></th>\n      <th>Tag Number</th>\n      <th>Electronic ID</th>\n      <th>NLIS</th>\n      <th>Breeder PIC</th>\n      <th>Breeder Property</th>\n      <th>Date</th>\n      <th>Live Weight (kg)</th>\n      <th>Dentition</th>\n      <th>Vendor</th>\n      <th>Sex</th>\n      <th>Pen</th>\n      <th>Status</th>\n      <th>Confirmation</th>\n      <th>Truck No</th>\n      <th>Exit Date</th>\n    </tr>\n  </thead>\n  <tbody>\n    <tr>\n      <th>0</th>\n      <td>SPD691B</td>\n      <td>942 000035285607</td>\n      <td>QFCX0257ZEQ00255</td>\n      <td>QFCX0257</td>\n      <td>Feedlot Replacement Tag</td>\n      <td>2020-07-20 12:06:00</td>\n      <td>0.0</td>\n      <td>4.0</td>\n      <td>Redrock Cattle Co</td>\n      <td>Steer</td>\n      <td>17 &amp; 18</td>\n      <td>Slaughtered</td>\n      <td>942 000035285607</td>\n      <td>1st truck</td>\n      <td>2020-10-27</td>\n    </tr>\n    <tr>\n      <th>1</th>\n      <td>SPD902</td>\n      <td>942 000035284901</td>\n      <td>QFCX0257ZEQ00206</td>\n      <td>QFCX0257</td>\n      <td>Feedlot Replacement Tag</td>\n      <td>2020-07-20 15:44:00</td>\n      <td>345.0</td>\n      <td>2.0</td>\n      <td>Redrock Cattle Co</td>\n      <td>Heifer</td>\n      <td>16</td>\n      <td>Slaughtered</td>\n      <td>942 000035284901</td>\n      <td>1st only truck</td>\n      <td>2020-10-29</td>\n    </tr>\n    <tr>\n      <th>2</th>\n      <td>SPD858</td>\n      <td>942 000030134997</td>\n      <td>TKBT0166ZBP29932</td>\n      <td>TKBT0166</td>\n      <td>Tobermorey Station</td>\n      <td>2020-07-20 15:20:00</td>\n      <td>359.0</td>\n      <td>4.0</td>\n      <td>Redrock Cattle Co</td>\n      <td>Heifer</td>\n      <td>16</td>\n      <td>Slaughtered</td>\n      <td>942 000030134997</td>\n      <td>1st only truck</td>\n      <td>2020-10-29</td>\n    </tr>\n    <tr>\n      <th>3</th>\n      <td>SPD812</td>\n      <td>982 123708965986</td>\n      <td>QCBM0234XBP02958</td>\n      <td>QCBM0234</td>\n      <td>Mazzer Lawrence Kevin</td>\n      <td>2020-07-20 14:54:00</td>\n      <td>362.0</td>\n      <td>4.0</td>\n      <td>M I Speed</td>\n      <td>Steer</td>\n      <td>20</td>\n      <td>Slaughtered</td>\n      <td>982 123708965986</td>\n      <td>2nd truck</td>\n      <td>2020-10-28</td>\n    </tr>\n    <tr>\n      <th>4</th>\n      <td>SPD897</td>\n      <td>942 000030205790</td>\n      <td>TKBT0166ZBP30548</td>\n      <td>TKBT0166</td>\n      <td>Tobermorey Station</td>\n      <td>2020-07-20 15:41:00</td>\n      <td>367.0</td>\n      <td>2.0</td>\n      <td>Redrock Cattle Co</td>\n      <td>Heifer</td>\n      <td>16</td>\n      <td>Slaughtered</td>\n      <td>942 000030205790</td>\n      <td>1st only truck</td>\n      <td>2020-10-29</td>\n    </tr>\n  </tbody>\n</table>\n</div>"
          },
          "metadata": {},
          "execution_count": 206
        }
      ],
      "source": [
        "xlsx1.head(5)"
      ]
    },
    {
      "cell_type": "code",
      "execution_count": 207,
      "metadata": {},
      "outputs": [],
      "source": [
        "xlsx2 = pd.read_excel('G:\\\\SPEED SUMMARY.xlsx','KillData 281020')"
      ]
    },
    {
      "cell_type": "code",
      "execution_count": 208,
      "metadata": {},
      "outputs": [
        {
          "output_type": "execute_result",
          "data": {
            "text/plain": [
              "     KillDate  BodyNo      ElectronicID Sex  Dentition  P8 Fat Butt  \\\n",
              "0  28/10/2020       1  982 123543620430   M          2      20    C   \n",
              "1  28/10/2020       2  942 000022079992   M          2      22    C   \n",
              "2  28/10/2020       3  942 000030205333   M          6      14    C   \n",
              "3  28/10/2020       4  982 123517203518   M          6      10    C   \n",
              "4  28/10/2020       5  942 000026115240   M          2      30    C   \n",
              "\n",
              "  Meat Colour  Fat Colour  Osc  Hot Weight Left Grading Left Side  \\\n",
              "0           2         0.0  0.0            204.5                GD   \n",
              "1          1B         0.0  0.0            209.5                GD   \n",
              "2          1C         0.0  0.0            180.0                GG   \n",
              "3           2         0.0  0.0            192.0                GG   \n",
              "4          1C         0.0  0.0            193.0                GE   \n",
              "\n",
              "   $/kg Left Side  Hot Weight Right Grading Right Side  $/kg Right Side  \\\n",
              "0            6.70             200.5                 GD             6.70   \n",
              "1            6.70             204.5                 GD             6.70   \n",
              "2            6.60             180.0                 GG             6.60   \n",
              "3            6.60             191.0                 GG             6.60   \n",
              "4            6.65             189.0                 GE             6.65   \n",
              "\n",
              "   Total Hot Weight  Total Value  \n",
              "0             405.0       2713.5  \n",
              "1             414.0       2773.8  \n",
              "2             360.0       2376.0  \n",
              "3             383.0       2527.8  \n",
              "4             382.0       2540.3  "
            ],
            "text/html": "<div>\n<style scoped>\n    .dataframe tbody tr th:only-of-type {\n        vertical-align: middle;\n    }\n\n    .dataframe tbody tr th {\n        vertical-align: top;\n    }\n\n    .dataframe thead th {\n        text-align: right;\n    }\n</style>\n<table border=\"1\" class=\"dataframe\">\n  <thead>\n    <tr style=\"text-align: right;\">\n      <th></th>\n      <th>KillDate</th>\n      <th>BodyNo</th>\n      <th>ElectronicID</th>\n      <th>Sex</th>\n      <th>Dentition</th>\n      <th>P8 Fat</th>\n      <th>Butt</th>\n      <th>Meat Colour</th>\n      <th>Fat Colour</th>\n      <th>Osc</th>\n      <th>Hot Weight Left</th>\n      <th>Grading Left Side</th>\n      <th>$/kg Left Side</th>\n      <th>Hot Weight Right</th>\n      <th>Grading Right Side</th>\n      <th>$/kg Right Side</th>\n      <th>Total Hot Weight</th>\n      <th>Total Value</th>\n    </tr>\n  </thead>\n  <tbody>\n    <tr>\n      <th>0</th>\n      <td>28/10/2020</td>\n      <td>1</td>\n      <td>982 123543620430</td>\n      <td>M</td>\n      <td>2</td>\n      <td>20</td>\n      <td>C</td>\n      <td>2</td>\n      <td>0.0</td>\n      <td>0.0</td>\n      <td>204.5</td>\n      <td>GD</td>\n      <td>6.70</td>\n      <td>200.5</td>\n      <td>GD</td>\n      <td>6.70</td>\n      <td>405.0</td>\n      <td>2713.5</td>\n    </tr>\n    <tr>\n      <th>1</th>\n      <td>28/10/2020</td>\n      <td>2</td>\n      <td>942 000022079992</td>\n      <td>M</td>\n      <td>2</td>\n      <td>22</td>\n      <td>C</td>\n      <td>1B</td>\n      <td>0.0</td>\n      <td>0.0</td>\n      <td>209.5</td>\n      <td>GD</td>\n      <td>6.70</td>\n      <td>204.5</td>\n      <td>GD</td>\n      <td>6.70</td>\n      <td>414.0</td>\n      <td>2773.8</td>\n    </tr>\n    <tr>\n      <th>2</th>\n      <td>28/10/2020</td>\n      <td>3</td>\n      <td>942 000030205333</td>\n      <td>M</td>\n      <td>6</td>\n      <td>14</td>\n      <td>C</td>\n      <td>1C</td>\n      <td>0.0</td>\n      <td>0.0</td>\n      <td>180.0</td>\n      <td>GG</td>\n      <td>6.60</td>\n      <td>180.0</td>\n      <td>GG</td>\n      <td>6.60</td>\n      <td>360.0</td>\n      <td>2376.0</td>\n    </tr>\n    <tr>\n      <th>3</th>\n      <td>28/10/2020</td>\n      <td>4</td>\n      <td>982 123517203518</td>\n      <td>M</td>\n      <td>6</td>\n      <td>10</td>\n      <td>C</td>\n      <td>2</td>\n      <td>0.0</td>\n      <td>0.0</td>\n      <td>192.0</td>\n      <td>GG</td>\n      <td>6.60</td>\n      <td>191.0</td>\n      <td>GG</td>\n      <td>6.60</td>\n      <td>383.0</td>\n      <td>2527.8</td>\n    </tr>\n    <tr>\n      <th>4</th>\n      <td>28/10/2020</td>\n      <td>5</td>\n      <td>942 000026115240</td>\n      <td>M</td>\n      <td>2</td>\n      <td>30</td>\n      <td>C</td>\n      <td>1C</td>\n      <td>0.0</td>\n      <td>0.0</td>\n      <td>193.0</td>\n      <td>GE</td>\n      <td>6.65</td>\n      <td>189.0</td>\n      <td>GE</td>\n      <td>6.65</td>\n      <td>382.0</td>\n      <td>2540.3</td>\n    </tr>\n  </tbody>\n</table>\n</div>"
          },
          "metadata": {},
          "execution_count": 208
        }
      ],
      "source": [
        "xlsx2.head()"
      ]
    },
    {
      "cell_type": "code",
      "execution_count": 225,
      "metadata": {},
      "outputs": [
        {
          "output_type": "execute_result",
          "data": {
            "text/plain": [
              "10000"
            ]
          },
          "metadata": {},
          "execution_count": 225
        }
      ],
      "source": [
        "pd.options.display.max_rows"
      ]
    },
    {
      "cell_type": "code",
      "execution_count": 228,
      "metadata": {},
      "outputs": [],
      "source": [
        "marge = pd.concat([xlsx1,xlsx2],axis=1).head(6)"
      ]
    },
    {
      "cell_type": "code",
      "execution_count": 229,
      "metadata": {},
      "outputs": [],
      "source": [
        "marge.to_excel('G:\\\\text.xlsx')"
      ]
    },
    {
      "cell_type": "code",
      "execution_count": 238,
      "metadata": {},
      "outputs": [],
      "source": [
        "    import requests"
      ]
    },
    {
      "cell_type": "code",
      "execution_count": 239,
      "metadata": {},
      "outputs": [],
      "source": [
        "url = \"https://urdu.geo.tv/latest/234714-\""
      ]
    },
    {
      "cell_type": "code",
      "execution_count": 240,
      "metadata": {},
      "outputs": [],
      "source": [
        "resp = requests.get(url)"
      ]
    },
    {
      "cell_type": "code",
      "execution_count": 241,
      "metadata": {},
      "outputs": [
        {
          "output_type": "execute_result",
          "data": {
            "text/plain": [
              "<Response [200]>"
            ]
          },
          "metadata": {},
          "execution_count": 241
        }
      ],
      "source": [
        "resp"
      ]
    },
    {
      "cell_type": "code",
      "execution_count": null,
      "metadata": {},
      "outputs": [],
      "source": []
    }
  ]
}