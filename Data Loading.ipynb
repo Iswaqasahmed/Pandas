{
  "nbformat": 4,
  "nbformat_minor": 0,
  "metadata": {
    "orig_nbformat": 2,
    "colab": {
      "name": "Data Loading.ipynb",
      "provenance": []
    },
    "kernelspec": {
      "name": "python3",
      "display_name": "Python 3"
    },
    "accelerator": "TPU"
  },
  "cells": [
    {
      "cell_type": "markdown",
      "metadata": {
        "id": "aR9T7toO9bJZ"
      },
      "source": [
        "Reading And Writing Data in Text Format (link with Google Colab)\n",
        "[![Open In Colab](https://colab.research.google.com/assets/colab-badge.svg)](https://colab.research.google.com/github/googlecolab/colabtools/blob/master/notebooks/colab-github-demo.ipynb)\n"
      ]
    },
    {
      "cell_type": "code",
      "metadata": {
        "id": "MIl9vrKz9pit"
      },
      "source": [
        "import pandas as pd\n",
        "import numpy as np"
      ],
      "execution_count": 1,
      "outputs": []
    },
    {
      "cell_type": "code",
      "metadata": {
        "id": "xBT09Br2NhgG"
      },
      "source": [
        "# !cat   /content/sample_data/california_housing_test.csv "
      ],
      "execution_count": 2,
      "outputs": []
    },
    {
      "cell_type": "code",
      "metadata": {
        "id": "EQPip1ypNlUY",
        "outputId": "c4660686-62e7-4151-cc7f-7e2383c1b7c3",
        "colab": {
          "base_uri": "https://localhost:8080/",
          "height": 142
        }
      },
      "source": [
        "# pd.read_csv(\"/content/sample_data/california_housing_test.csv\").head(3)"
      ],
      "execution_count": 3,
      "outputs": []
    },
    {
      "cell_type": "code",
      "metadata": {
        "id": "PK_SCc2KN0aX",
        "outputId": "3a112110-3b53-450d-cb4b-a2aa849639f6",
        "colab": {
          "base_uri": "https://localhost:8080/",
          "height": 419
        }
      },
      "source": [
        "# pd.read_csv(\"/content/sample_data/california_housing_test.csv\",header= None) # by default it's none"
      ],
      "execution_count": 5,
      "outputs": []
    },
    {
      "cell_type": "code",
      "metadata": {
        "id": "TG9EplpnOG0l"
      },
      "source": [
        "data = pd.read_csv('G:\\Data\\grupo-bimbo-inventory-demand\\producto_tabla\\producto_tabla.csv')"
      ],
      "execution_count": 6,
      "outputs": []
    },
    {
      "cell_type": "code",
      "execution_count": 7,
      "metadata": {},
      "outputs": [
        {
          "output_type": "execute_result",
          "data": {
            "text/plain": [
              "   Producto_ID                          NombreProducto\n",
              "0            0                       NO IDENTIFICADO 0\n",
              "1            9               Capuccino Moka 750g NES 9\n",
              "2           41  Bimbollos Ext sAjonjoli 6p 480g BIM 41\n",
              "3           53          Burritos Sincro 170g CU LON 53\n",
              "4           72     Div Tira Mini Doradita 4p 45g TR 72\n",
              "5           73       Pan Multigrano Linaza 540g BIM 73\n",
              "6           98            Tostado Integral 180g WON 98\n",
              "7           99                  Pan Blanco 567g WON 99\n",
              "8          100  Super Pan Bco Ajonjoli 680g SP WON 100\n",
              "9          106      Wonder 100pct mediano 475g WON 106"
            ],
            "text/html": "<div>\n<style scoped>\n    .dataframe tbody tr th:only-of-type {\n        vertical-align: middle;\n    }\n\n    .dataframe tbody tr th {\n        vertical-align: top;\n    }\n\n    .dataframe thead th {\n        text-align: right;\n    }\n</style>\n<table border=\"1\" class=\"dataframe\">\n  <thead>\n    <tr style=\"text-align: right;\">\n      <th></th>\n      <th>Producto_ID</th>\n      <th>NombreProducto</th>\n    </tr>\n  </thead>\n  <tbody>\n    <tr>\n      <th>0</th>\n      <td>0</td>\n      <td>NO IDENTIFICADO 0</td>\n    </tr>\n    <tr>\n      <th>1</th>\n      <td>9</td>\n      <td>Capuccino Moka 750g NES 9</td>\n    </tr>\n    <tr>\n      <th>2</th>\n      <td>41</td>\n      <td>Bimbollos Ext sAjonjoli 6p 480g BIM 41</td>\n    </tr>\n    <tr>\n      <th>3</th>\n      <td>53</td>\n      <td>Burritos Sincro 170g CU LON 53</td>\n    </tr>\n    <tr>\n      <th>4</th>\n      <td>72</td>\n      <td>Div Tira Mini Doradita 4p 45g TR 72</td>\n    </tr>\n    <tr>\n      <th>5</th>\n      <td>73</td>\n      <td>Pan Multigrano Linaza 540g BIM 73</td>\n    </tr>\n    <tr>\n      <th>6</th>\n      <td>98</td>\n      <td>Tostado Integral 180g WON 98</td>\n    </tr>\n    <tr>\n      <th>7</th>\n      <td>99</td>\n      <td>Pan Blanco 567g WON 99</td>\n    </tr>\n    <tr>\n      <th>8</th>\n      <td>100</td>\n      <td>Super Pan Bco Ajonjoli 680g SP WON 100</td>\n    </tr>\n    <tr>\n      <th>9</th>\n      <td>106</td>\n      <td>Wonder 100pct mediano 475g WON 106</td>\n    </tr>\n  </tbody>\n</table>\n</div>"
          },
          "metadata": {},
          "execution_count": 7
        }
      ],
      "source": [
        "data.head(10)"
      ]
    },
    {
      "cell_type": "code",
      "execution_count": 8,
      "metadata": {},
      "outputs": [
        {
          "output_type": "execute_result",
          "data": {
            "text/plain": [
              "(2592, 2)"
            ]
          },
          "metadata": {},
          "execution_count": 8
        }
      ],
      "source": [
        "data.shape"
      ]
    },
    {
      "cell_type": "code",
      "execution_count": 11,
      "metadata": {},
      "outputs": [],
      "source": [
        "data = pd.read_csv('G:\\Data\\grupo-bimbo-inventory-demand\\producto_tabla\\producto_tabla.csv',names=['Product ID','Number Product']) # reanme column names"
      ]
    },
    {
      "cell_type": "code",
      "execution_count": 13,
      "metadata": {},
      "outputs": [
        {
          "output_type": "execute_result",
          "data": {
            "text/plain": [
              "    Product ID                          Number Product\n",
              "0  Producto_ID                          NombreProducto\n",
              "1            0                       NO IDENTIFICADO 0\n",
              "2            9               Capuccino Moka 750g NES 9\n",
              "3           41  Bimbollos Ext sAjonjoli 6p 480g BIM 41\n",
              "4           53          Burritos Sincro 170g CU LON 53\n",
              "5           72     Div Tira Mini Doradita 4p 45g TR 72\n",
              "6           73       Pan Multigrano Linaza 540g BIM 73\n",
              "7           98            Tostado Integral 180g WON 98\n",
              "8           99                  Pan Blanco 567g WON 99\n",
              "9          100  Super Pan Bco Ajonjoli 680g SP WON 100"
            ],
            "text/html": "<div>\n<style scoped>\n    .dataframe tbody tr th:only-of-type {\n        vertical-align: middle;\n    }\n\n    .dataframe tbody tr th {\n        vertical-align: top;\n    }\n\n    .dataframe thead th {\n        text-align: right;\n    }\n</style>\n<table border=\"1\" class=\"dataframe\">\n  <thead>\n    <tr style=\"text-align: right;\">\n      <th></th>\n      <th>Product ID</th>\n      <th>Number Product</th>\n    </tr>\n  </thead>\n  <tbody>\n    <tr>\n      <th>0</th>\n      <td>Producto_ID</td>\n      <td>NombreProducto</td>\n    </tr>\n    <tr>\n      <th>1</th>\n      <td>0</td>\n      <td>NO IDENTIFICADO 0</td>\n    </tr>\n    <tr>\n      <th>2</th>\n      <td>9</td>\n      <td>Capuccino Moka 750g NES 9</td>\n    </tr>\n    <tr>\n      <th>3</th>\n      <td>41</td>\n      <td>Bimbollos Ext sAjonjoli 6p 480g BIM 41</td>\n    </tr>\n    <tr>\n      <th>4</th>\n      <td>53</td>\n      <td>Burritos Sincro 170g CU LON 53</td>\n    </tr>\n    <tr>\n      <th>5</th>\n      <td>72</td>\n      <td>Div Tira Mini Doradita 4p 45g TR 72</td>\n    </tr>\n    <tr>\n      <th>6</th>\n      <td>73</td>\n      <td>Pan Multigrano Linaza 540g BIM 73</td>\n    </tr>\n    <tr>\n      <th>7</th>\n      <td>98</td>\n      <td>Tostado Integral 180g WON 98</td>\n    </tr>\n    <tr>\n      <th>8</th>\n      <td>99</td>\n      <td>Pan Blanco 567g WON 99</td>\n    </tr>\n    <tr>\n      <th>9</th>\n      <td>100</td>\n      <td>Super Pan Bco Ajonjoli 680g SP WON 100</td>\n    </tr>\n  </tbody>\n</table>\n</div>"
          },
          "metadata": {},
          "execution_count": 13
        }
      ],
      "source": [
        "data.head(10)"
      ]
    },
    {
      "cell_type": "code",
      "execution_count": null,
      "metadata": {},
      "outputs": [],
      "source": []
    }
  ]
}