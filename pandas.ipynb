{
 "metadata": {
  "language_info": {
   "codemirror_mode": {
    "name": "ipython",
    "version": 3
   },
   "file_extension": ".py",
   "mimetype": "text/x-python",
   "name": "python",
   "nbconvert_exporter": "python",
   "pygments_lexer": "ipython3",
   "version": "3.8.3-final"
  },
  "orig_nbformat": 2,
  "kernelspec": {
   "name": "Python 3.8.3 64-bit ('base': conda)",
   "display_name": "Python 3.8.3 64-bit ('base': conda)",
   "metadata": {
    "interpreter": {
     "hash": "b3ba2566441a7c06988d0923437866b63cedc61552a5af99d1f4fb67d367b25f"
    }
   }
  }
 },
 "nbformat": 4,
 "nbformat_minor": 2,
 "cells": [
  {
   "cell_type": "code",
   "execution_count": 1,
   "metadata": {},
   "outputs": [],
   "source": [
    "# importing  pandas library\n",
    "import pandas as pd\n",
    "import numpy as np"
   ]
  },
  {
   "cell_type": "code",
   "execution_count": 2,
   "metadata": {},
   "outputs": [
    {
     "output_type": "execute_result",
     "data": {
      "text/plain": [
       "0    1\n",
       "1    3\n",
       "2    5\n",
       "3    7\n",
       "4    9\n",
       "dtype: int32"
      ]
     },
     "metadata": {},
     "execution_count": 2
    }
   ],
   "source": [
    "obj = pd.Series(np.array(np.arange(1,10,2)))\n",
    "obj"
   ]
  },
  {
   "cell_type": "code",
   "execution_count": 3,
   "metadata": {},
   "outputs": [
    {
     "output_type": "execute_result",
     "data": {
      "text/plain": [
       "RangeIndex(start=0, stop=5, step=1)"
      ]
     },
     "metadata": {},
     "execution_count": 3
    }
   ],
   "source": [
    "obj.index"
   ]
  },
  {
   "cell_type": "code",
   "execution_count": 4,
   "metadata": {},
   "outputs": [
    {
     "output_type": "execute_result",
     "data": {
      "text/plain": [
       "array([1, 3, 5, 7, 9])"
      ]
     },
     "metadata": {},
     "execution_count": 4
    }
   ],
   "source": [
    "obj.values"
   ]
  },
  {
   "cell_type": "code",
   "execution_count": 5,
   "metadata": {},
   "outputs": [
    {
     "output_type": "execute_result",
     "data": {
      "text/plain": [
       "d    13\n",
       "a     4\n",
       "e     5\n",
       "dtype: int64"
      ]
     },
     "metadata": {},
     "execution_count": 5
    }
   ],
   "source": [
    "obj2 = pd.Series([13,4,5],index=['d','a','e'])\n",
    "obj2"
   ]
  },
  {
   "cell_type": "code",
   "execution_count": 6,
   "metadata": {},
   "outputs": [
    {
     "output_type": "execute_result",
     "data": {
      "text/plain": [
       "Index(['d', 'a', 'e'], dtype='object')"
      ]
     },
     "metadata": {},
     "execution_count": 6
    }
   ],
   "source": [
    "obj2.index"
   ]
  },
  {
   "cell_type": "code",
   "execution_count": 7,
   "metadata": {},
   "outputs": [
    {
     "output_type": "execute_result",
     "data": {
      "text/plain": [
       "array([13,  4,  5], dtype=int64)"
      ]
     },
     "metadata": {},
     "execution_count": 7
    }
   ],
   "source": [
    "obj2.values"
   ]
  },
  {
   "cell_type": "code",
   "execution_count": 8,
   "metadata": {},
   "outputs": [
    {
     "output_type": "execute_result",
     "data": {
      "text/plain": [
       "13"
      ]
     },
     "metadata": {},
     "execution_count": 8
    }
   ],
   "source": [
    "obj2['d']"
   ]
  },
  {
   "cell_type": "code",
   "execution_count": 9,
   "metadata": {},
   "outputs": [],
   "source": [
    "obj2['a'] = 6"
   ]
  },
  {
   "cell_type": "code",
   "execution_count": 10,
   "metadata": {},
   "outputs": [
    {
     "output_type": "execute_result",
     "data": {
      "text/plain": [
       "d    13\n",
       "a     6\n",
       "e     5\n",
       "dtype: int64"
      ]
     },
     "metadata": {},
     "execution_count": 10
    }
   ],
   "source": [
    "obj2"
   ]
  },
  {
   "cell_type": "code",
   "execution_count": 11,
   "metadata": {},
   "outputs": [
    {
     "output_type": "execute_result",
     "data": {
      "text/plain": [
       "d    13\n",
       "a     6\n",
       "e     5\n",
       "dtype: int64"
      ]
     },
     "metadata": {},
     "execution_count": 11
    }
   ],
   "source": [
    "obj2[obj2 > 2]"
   ]
  },
  {
   "cell_type": "code",
   "execution_count": 12,
   "metadata": {},
   "outputs": [
    {
     "output_type": "execute_result",
     "data": {
      "text/plain": [
       "24"
      ]
     },
     "metadata": {},
     "execution_count": 12
    }
   ],
   "source": [
    "obj2[obj2 > 2].sum()"
   ]
  },
  {
   "cell_type": "code",
   "execution_count": 13,
   "metadata": {},
   "outputs": [
    {
     "output_type": "execute_result",
     "data": {
      "text/plain": [
       "13"
      ]
     },
     "metadata": {},
     "execution_count": 13
    }
   ],
   "source": [
    "max(obj2[obj2>2])"
   ]
  },
  {
   "cell_type": "code",
   "execution_count": 14,
   "metadata": {},
   "outputs": [
    {
     "output_type": "execute_result",
     "data": {
      "text/plain": [
       "True"
      ]
     },
     "metadata": {},
     "execution_count": 14
    }
   ],
   "source": [
    "'a' in obj2"
   ]
  },
  {
   "cell_type": "code",
   "execution_count": 15,
   "metadata": {},
   "outputs": [
    {
     "output_type": "execute_result",
     "data": {
      "text/plain": [
       "False"
      ]
     },
     "metadata": {},
     "execution_count": 15
    }
   ],
   "source": [
    "4 in obj2\n"
   ]
  },
  {
   "cell_type": "code",
   "execution_count": 16,
   "metadata": {},
   "outputs": [
    {
     "output_type": "execute_result",
     "data": {
      "text/plain": [
       "{'ohio': 3500, 'texas': 5687, 'oregon': 4834, 'utah': 5799}"
      ]
     },
     "metadata": {},
     "execution_count": 16
    }
   ],
   "source": [
    "sdata = {'ohio': 3500,'texas':5687,'oregon':4834,'utah':5799}\n",
    "sdata"
   ]
  },
  {
   "cell_type": "code",
   "execution_count": 17,
   "metadata": {},
   "outputs": [
    {
     "output_type": "execute_result",
     "data": {
      "text/plain": [
       "ohio      3500\n",
       "texas     5687\n",
       "oregon    4834\n",
       "utah      5799\n",
       "dtype: int64"
      ]
     },
     "metadata": {},
     "execution_count": 17
    }
   ],
   "source": [
    "pd.Series(sdata)"
   ]
  },
  {
   "cell_type": "code",
   "execution_count": 18,
   "metadata": {},
   "outputs": [
    {
     "output_type": "execute_result",
     "data": {
      "text/plain": [
       "california       NaN\n",
       "ohio          3500.0\n",
       "oregon        4834.0\n",
       "utah          5799.0\n",
       "dtype: float64"
      ]
     },
     "metadata": {},
     "execution_count": 18
    }
   ],
   "source": [
    "states = ['california','ohio',\"oregon\",'utah']\n",
    "obj4 = pd.Series(sdata,index=states)\n",
    "obj4"
   ]
  },
  {
   "cell_type": "code",
   "execution_count": 19,
   "metadata": {},
   "outputs": [
    {
     "output_type": "execute_result",
     "data": {
      "text/plain": [
       "4711.0"
      ]
     },
     "metadata": {},
     "execution_count": 19
    }
   ],
   "source": [
    "obj4[obj4 > 200].mean()"
   ]
  },
  {
   "cell_type": "code",
   "execution_count": 20,
   "metadata": {},
   "outputs": [
    {
     "output_type": "execute_result",
     "data": {
      "text/plain": [
       "california     True\n",
       "ohio          False\n",
       "oregon        False\n",
       "utah          False\n",
       "dtype: bool"
      ]
     },
     "metadata": {},
     "execution_count": 20
    }
   ],
   "source": [
    "pd.isnull(obj4)"
   ]
  },
  {
   "cell_type": "code",
   "execution_count": 21,
   "metadata": {},
   "outputs": [
    {
     "output_type": "execute_result",
     "data": {
      "text/plain": [
       "california    False\n",
       "ohio           True\n",
       "oregon         True\n",
       "utah           True\n",
       "dtype: bool"
      ]
     },
     "metadata": {},
     "execution_count": 21
    }
   ],
   "source": [
    "pd.notnull(obj4)"
   ]
  },
  {
   "cell_type": "code",
   "execution_count": 22,
   "metadata": {},
   "outputs": [
    {
     "output_type": "execute_result",
     "data": {
      "text/plain": [
       "california    False\n",
       "ohio           True\n",
       "oregon         True\n",
       "utah           True\n",
       "dtype: bool"
      ]
     },
     "metadata": {},
     "execution_count": 22
    }
   ],
   "source": [
    "pd.notna(obj4)"
   ]
  },
  {
   "cell_type": "code",
   "execution_count": 23,
   "metadata": {},
   "outputs": [
    {
     "output_type": "execute_result",
     "data": {
      "text/plain": [
       "ohio      3500\n",
       "texas     5687\n",
       "oregon    4834\n",
       "utah      5799\n",
       "dtype: int64"
      ]
     },
     "metadata": {},
     "execution_count": 23
    }
   ],
   "source": [
    "obj3 = pd.Series(sdata)\n",
    "obj3"
   ]
  },
  {
   "cell_type": "code",
   "execution_count": 24,
   "metadata": {},
   "outputs": [
    {
     "output_type": "execute_result",
     "data": {
      "text/plain": [
       "california       NaN\n",
       "ohio          3500.0\n",
       "oregon        4834.0\n",
       "utah          5799.0\n",
       "dtype: float64"
      ]
     },
     "metadata": {},
     "execution_count": 24
    }
   ],
   "source": [
    "obj4"
   ]
  },
  {
   "cell_type": "code",
   "execution_count": 25,
   "metadata": {},
   "outputs": [
    {
     "output_type": "execute_result",
     "data": {
      "text/plain": [
       "california        NaN\n",
       "ohio           7000.0\n",
       "oregon         9668.0\n",
       "texas             NaN\n",
       "utah          11598.0\n",
       "dtype: float64"
      ]
     },
     "metadata": {},
     "execution_count": 25
    }
   ],
   "source": [
    "obj3+obj4"
   ]
  },
  {
   "cell_type": "code",
   "execution_count": 26,
   "metadata": {},
   "outputs": [],
   "source": [
    "obj4.name = 'population'"
   ]
  },
  {
   "cell_type": "code",
   "execution_count": 27,
   "metadata": {},
   "outputs": [
    {
     "output_type": "execute_result",
     "data": {
      "text/plain": [
       "california       NaN\n",
       "ohio          3500.0\n",
       "oregon        4834.0\n",
       "utah          5799.0\n",
       "Name: population, dtype: float64"
      ]
     },
     "metadata": {},
     "execution_count": 27
    }
   ],
   "source": [
    "obj4"
   ]
  },
  {
   "cell_type": "code",
   "execution_count": 28,
   "metadata": {},
   "outputs": [
    {
     "output_type": "execute_result",
     "data": {
      "text/plain": [
       "state\n",
       "california       NaN\n",
       "ohio          3500.0\n",
       "oregon        4834.0\n",
       "utah          5799.0\n",
       "Name: population, dtype: float64"
      ]
     },
     "metadata": {},
     "execution_count": 28
    }
   ],
   "source": [
    "obj4.index.name = 'state'\n",
    "obj4"
   ]
  },
  {
   "cell_type": "code",
   "execution_count": 29,
   "metadata": {},
   "outputs": [
    {
     "output_type": "execute_result",
     "data": {
      "text/plain": [
       "            population\n",
       "state                 \n",
       "california         NaN\n",
       "ohio            3500.0\n",
       "oregon          4834.0\n",
       "utah            5799.0"
      ],
      "text/html": "<div>\n<style scoped>\n    .dataframe tbody tr th:only-of-type {\n        vertical-align: middle;\n    }\n\n    .dataframe tbody tr th {\n        vertical-align: top;\n    }\n\n    .dataframe thead th {\n        text-align: right;\n    }\n</style>\n<table border=\"1\" class=\"dataframe\">\n  <thead>\n    <tr style=\"text-align: right;\">\n      <th></th>\n      <th>population</th>\n    </tr>\n    <tr>\n      <th>state</th>\n      <th></th>\n    </tr>\n  </thead>\n  <tbody>\n    <tr>\n      <th>california</th>\n      <td>NaN</td>\n    </tr>\n    <tr>\n      <th>ohio</th>\n      <td>3500.0</td>\n    </tr>\n    <tr>\n      <th>oregon</th>\n      <td>4834.0</td>\n    </tr>\n    <tr>\n      <th>utah</th>\n      <td>5799.0</td>\n    </tr>\n  </tbody>\n</table>\n</div>"
     },
     "metadata": {},
     "execution_count": 29
    }
   ],
   "source": [
    "pd.DataFrame(obj4)"
   ]
  },
  {
   "source": [
    "### DataFrame"
   ],
   "cell_type": "markdown",
   "metadata": {}
  },
  {
   "cell_type": "code",
   "execution_count": 30,
   "metadata": {},
   "outputs": [],
   "source": [
    "data = {'state':['ohia','ohia','ohia','nevada','nevada','nevada'],\n",
    "         'year':[2000,2001,2003,34004,34324,3534],\n",
    "          'pop':[1.5,1.7,3.6,2.4,2.9,3.2]}\n",
    "\n",
    "        "
   ]
  },
  {
   "cell_type": "code",
   "execution_count": 31,
   "metadata": {},
   "outputs": [],
   "source": [
    "frame = pd.DataFrame(data)"
   ]
  },
  {
   "cell_type": "code",
   "execution_count": 32,
   "metadata": {},
   "outputs": [],
   "source": [
    "frame.name = 'information'"
   ]
  },
  {
   "cell_type": "code",
   "execution_count": 33,
   "metadata": {},
   "outputs": [
    {
     "output_type": "execute_result",
     "data": {
      "text/plain": [
       "    state   year  pop\n",
       "0    ohia   2000  1.5\n",
       "1    ohia   2001  1.7\n",
       "2    ohia   2003  3.6\n",
       "3  nevada  34004  2.4\n",
       "4  nevada  34324  2.9\n",
       "5  nevada   3534  3.2"
      ],
      "text/html": "<div>\n<style scoped>\n    .dataframe tbody tr th:only-of-type {\n        vertical-align: middle;\n    }\n\n    .dataframe tbody tr th {\n        vertical-align: top;\n    }\n\n    .dataframe thead th {\n        text-align: right;\n    }\n</style>\n<table border=\"1\" class=\"dataframe\">\n  <thead>\n    <tr style=\"text-align: right;\">\n      <th></th>\n      <th>state</th>\n      <th>year</th>\n      <th>pop</th>\n    </tr>\n  </thead>\n  <tbody>\n    <tr>\n      <th>0</th>\n      <td>ohia</td>\n      <td>2000</td>\n      <td>1.5</td>\n    </tr>\n    <tr>\n      <th>1</th>\n      <td>ohia</td>\n      <td>2001</td>\n      <td>1.7</td>\n    </tr>\n    <tr>\n      <th>2</th>\n      <td>ohia</td>\n      <td>2003</td>\n      <td>3.6</td>\n    </tr>\n    <tr>\n      <th>3</th>\n      <td>nevada</td>\n      <td>34004</td>\n      <td>2.4</td>\n    </tr>\n    <tr>\n      <th>4</th>\n      <td>nevada</td>\n      <td>34324</td>\n      <td>2.9</td>\n    </tr>\n    <tr>\n      <th>5</th>\n      <td>nevada</td>\n      <td>3534</td>\n      <td>3.2</td>\n    </tr>\n  </tbody>\n</table>\n</div>"
     },
     "metadata": {},
     "execution_count": 33
    }
   ],
   "source": [
    "frame"
   ]
  },
  {
   "cell_type": "code",
   "execution_count": 34,
   "metadata": {},
   "outputs": [
    {
     "output_type": "execute_result",
     "data": {
      "text/plain": [
       "                state   year  pop\n",
       "serial number                    \n",
       "0                ohia   2000  1.5\n",
       "1                ohia   2001  1.7\n",
       "2                ohia   2003  3.6\n",
       "3              nevada  34004  2.4\n",
       "4              nevada  34324  2.9\n",
       "5              nevada   3534  3.2"
      ],
      "text/html": "<div>\n<style scoped>\n    .dataframe tbody tr th:only-of-type {\n        vertical-align: middle;\n    }\n\n    .dataframe tbody tr th {\n        vertical-align: top;\n    }\n\n    .dataframe thead th {\n        text-align: right;\n    }\n</style>\n<table border=\"1\" class=\"dataframe\">\n  <thead>\n    <tr style=\"text-align: right;\">\n      <th></th>\n      <th>state</th>\n      <th>year</th>\n      <th>pop</th>\n    </tr>\n    <tr>\n      <th>serial number</th>\n      <th></th>\n      <th></th>\n      <th></th>\n    </tr>\n  </thead>\n  <tbody>\n    <tr>\n      <th>0</th>\n      <td>ohia</td>\n      <td>2000</td>\n      <td>1.5</td>\n    </tr>\n    <tr>\n      <th>1</th>\n      <td>ohia</td>\n      <td>2001</td>\n      <td>1.7</td>\n    </tr>\n    <tr>\n      <th>2</th>\n      <td>ohia</td>\n      <td>2003</td>\n      <td>3.6</td>\n    </tr>\n    <tr>\n      <th>3</th>\n      <td>nevada</td>\n      <td>34004</td>\n      <td>2.4</td>\n    </tr>\n    <tr>\n      <th>4</th>\n      <td>nevada</td>\n      <td>34324</td>\n      <td>2.9</td>\n    </tr>\n    <tr>\n      <th>5</th>\n      <td>nevada</td>\n      <td>3534</td>\n      <td>3.2</td>\n    </tr>\n  </tbody>\n</table>\n</div>"
     },
     "metadata": {},
     "execution_count": 34
    }
   ],
   "source": [
    "frame.index.name = 'serial number'\n",
    "frame"
   ]
  },
  {
   "cell_type": "code",
   "execution_count": 35,
   "metadata": {},
   "outputs": [
    {
     "output_type": "execute_result",
     "data": {
      "text/plain": [
       "              state  year  pop\n",
       "serial number                 \n",
       "0              ohia  2000  1.5\n",
       "1              ohia  2001  1.7"
      ],
      "text/html": "<div>\n<style scoped>\n    .dataframe tbody tr th:only-of-type {\n        vertical-align: middle;\n    }\n\n    .dataframe tbody tr th {\n        vertical-align: top;\n    }\n\n    .dataframe thead th {\n        text-align: right;\n    }\n</style>\n<table border=\"1\" class=\"dataframe\">\n  <thead>\n    <tr style=\"text-align: right;\">\n      <th></th>\n      <th>state</th>\n      <th>year</th>\n      <th>pop</th>\n    </tr>\n    <tr>\n      <th>serial number</th>\n      <th></th>\n      <th></th>\n      <th></th>\n    </tr>\n  </thead>\n  <tbody>\n    <tr>\n      <th>0</th>\n      <td>ohia</td>\n      <td>2000</td>\n      <td>1.5</td>\n    </tr>\n    <tr>\n      <th>1</th>\n      <td>ohia</td>\n      <td>2001</td>\n      <td>1.7</td>\n    </tr>\n  </tbody>\n</table>\n</div>"
     },
     "metadata": {},
     "execution_count": 35
    }
   ],
   "source": [
    "frame.head(2)"
   ]
  },
  {
   "cell_type": "code",
   "execution_count": 36,
   "metadata": {},
   "outputs": [
    {
     "output_type": "execute_result",
     "data": {
      "text/plain": [
       "        year   state  pop debt\n",
       "one     2000    ohia  1.5  NaN\n",
       "two     2001    ohia  1.7  NaN\n",
       "three   2003    ohia  3.6  NaN\n",
       "four   34004  nevada  2.4  NaN\n",
       "five   34324  nevada  2.9  NaN\n",
       "six     3534  nevada  3.2  NaN"
      ],
      "text/html": "<div>\n<style scoped>\n    .dataframe tbody tr th:only-of-type {\n        vertical-align: middle;\n    }\n\n    .dataframe tbody tr th {\n        vertical-align: top;\n    }\n\n    .dataframe thead th {\n        text-align: right;\n    }\n</style>\n<table border=\"1\" class=\"dataframe\">\n  <thead>\n    <tr style=\"text-align: right;\">\n      <th></th>\n      <th>year</th>\n      <th>state</th>\n      <th>pop</th>\n      <th>debt</th>\n    </tr>\n  </thead>\n  <tbody>\n    <tr>\n      <th>one</th>\n      <td>2000</td>\n      <td>ohia</td>\n      <td>1.5</td>\n      <td>NaN</td>\n    </tr>\n    <tr>\n      <th>two</th>\n      <td>2001</td>\n      <td>ohia</td>\n      <td>1.7</td>\n      <td>NaN</td>\n    </tr>\n    <tr>\n      <th>three</th>\n      <td>2003</td>\n      <td>ohia</td>\n      <td>3.6</td>\n      <td>NaN</td>\n    </tr>\n    <tr>\n      <th>four</th>\n      <td>34004</td>\n      <td>nevada</td>\n      <td>2.4</td>\n      <td>NaN</td>\n    </tr>\n    <tr>\n      <th>five</th>\n      <td>34324</td>\n      <td>nevada</td>\n      <td>2.9</td>\n      <td>NaN</td>\n    </tr>\n    <tr>\n      <th>six</th>\n      <td>3534</td>\n      <td>nevada</td>\n      <td>3.2</td>\n      <td>NaN</td>\n    </tr>\n  </tbody>\n</table>\n</div>"
     },
     "metadata": {},
     "execution_count": 36
    }
   ],
   "source": [
    "frame2 = pd.DataFrame(data,columns = ['year','state','pop','debt'],\n",
    "                    index=['one','two','three','four','five','six'])\n",
    "frame2"
   ]
  },
  {
   "cell_type": "code",
   "execution_count": 37,
   "metadata": {},
   "outputs": [
    {
     "output_type": "execute_result",
     "data": {
      "text/plain": [
       "Index(['one', 'two', 'three', 'four', 'five', 'six'], dtype='object')"
      ]
     },
     "metadata": {},
     "execution_count": 37
    }
   ],
   "source": [
    "frame2.index"
   ]
  },
  {
   "cell_type": "code",
   "execution_count": 38,
   "metadata": {},
   "outputs": [
    {
     "output_type": "execute_result",
     "data": {
      "text/plain": [
       "Index(['year', 'state', 'pop', 'debt'], dtype='object')"
      ]
     },
     "metadata": {},
     "execution_count": 38
    }
   ],
   "source": [
    "frame2.columns"
   ]
  },
  {
   "cell_type": "code",
   "execution_count": 39,
   "metadata": {},
   "outputs": [],
   "source": [
    "# Change the order of columns with respec to it's values\n",
    "frameUpadate = pd.DataFrame(data,columns=['year','state','pop'])"
   ]
  },
  {
   "cell_type": "code",
   "execution_count": 40,
   "metadata": {},
   "outputs": [],
   "source": [
    "frameUpadate.index.name = 'serial number'"
   ]
  },
  {
   "cell_type": "code",
   "execution_count": 41,
   "metadata": {},
   "outputs": [
    {
     "output_type": "execute_result",
     "data": {
      "text/plain": [
       "                year   state  pop\n",
       "serial number                    \n",
       "0               2000    ohia  1.5\n",
       "1               2001    ohia  1.7\n",
       "2               2003    ohia  3.6\n",
       "3              34004  nevada  2.4\n",
       "4              34324  nevada  2.9\n",
       "5               3534  nevada  3.2"
      ],
      "text/html": "<div>\n<style scoped>\n    .dataframe tbody tr th:only-of-type {\n        vertical-align: middle;\n    }\n\n    .dataframe tbody tr th {\n        vertical-align: top;\n    }\n\n    .dataframe thead th {\n        text-align: right;\n    }\n</style>\n<table border=\"1\" class=\"dataframe\">\n  <thead>\n    <tr style=\"text-align: right;\">\n      <th></th>\n      <th>year</th>\n      <th>state</th>\n      <th>pop</th>\n    </tr>\n    <tr>\n      <th>serial number</th>\n      <th></th>\n      <th></th>\n      <th></th>\n    </tr>\n  </thead>\n  <tbody>\n    <tr>\n      <th>0</th>\n      <td>2000</td>\n      <td>ohia</td>\n      <td>1.5</td>\n    </tr>\n    <tr>\n      <th>1</th>\n      <td>2001</td>\n      <td>ohia</td>\n      <td>1.7</td>\n    </tr>\n    <tr>\n      <th>2</th>\n      <td>2003</td>\n      <td>ohia</td>\n      <td>3.6</td>\n    </tr>\n    <tr>\n      <th>3</th>\n      <td>34004</td>\n      <td>nevada</td>\n      <td>2.4</td>\n    </tr>\n    <tr>\n      <th>4</th>\n      <td>34324</td>\n      <td>nevada</td>\n      <td>2.9</td>\n    </tr>\n    <tr>\n      <th>5</th>\n      <td>3534</td>\n      <td>nevada</td>\n      <td>3.2</td>\n    </tr>\n  </tbody>\n</table>\n</div>"
     },
     "metadata": {},
     "execution_count": 41
    }
   ],
   "source": [
    "frameUpadate"
   ]
  },
  {
   "cell_type": "code",
   "execution_count": 42,
   "metadata": {},
   "outputs": [
    {
     "output_type": "execute_result",
     "data": {
      "text/plain": [
       "                year   state  pop\n",
       "serial number                    \n",
       "2               2003    ohia  3.6\n",
       "3              34004  nevada  2.4\n",
       "4              34324  nevada  2.9\n",
       "5               3534  nevada  3.2"
      ],
      "text/html": "<div>\n<style scoped>\n    .dataframe tbody tr th:only-of-type {\n        vertical-align: middle;\n    }\n\n    .dataframe tbody tr th {\n        vertical-align: top;\n    }\n\n    .dataframe thead th {\n        text-align: right;\n    }\n</style>\n<table border=\"1\" class=\"dataframe\">\n  <thead>\n    <tr style=\"text-align: right;\">\n      <th></th>\n      <th>year</th>\n      <th>state</th>\n      <th>pop</th>\n    </tr>\n    <tr>\n      <th>serial number</th>\n      <th></th>\n      <th></th>\n      <th></th>\n    </tr>\n  </thead>\n  <tbody>\n    <tr>\n      <th>2</th>\n      <td>2003</td>\n      <td>ohia</td>\n      <td>3.6</td>\n    </tr>\n    <tr>\n      <th>3</th>\n      <td>34004</td>\n      <td>nevada</td>\n      <td>2.4</td>\n    </tr>\n    <tr>\n      <th>4</th>\n      <td>34324</td>\n      <td>nevada</td>\n      <td>2.9</td>\n    </tr>\n    <tr>\n      <th>5</th>\n      <td>3534</td>\n      <td>nevada</td>\n      <td>3.2</td>\n    </tr>\n  </tbody>\n</table>\n</div>"
     },
     "metadata": {},
     "execution_count": 42
    }
   ],
   "source": [
    "frameUpadate[frameUpadate['year'] > 2001]"
   ]
  },
  {
   "cell_type": "code",
   "execution_count": 43,
   "metadata": {},
   "outputs": [],
   "source": [
    "frameUpadate = frameUpadate.reindex(['two','three','four','five','one','zero'])"
   ]
  },
  {
   "cell_type": "code",
   "execution_count": 44,
   "metadata": {},
   "outputs": [
    {
     "output_type": "execute_result",
     "data": {
      "text/plain": [
       "               year state  pop\n",
       "serial number                 \n",
       "two             NaN   NaN  NaN\n",
       "three           NaN   NaN  NaN\n",
       "four            NaN   NaN  NaN\n",
       "five            NaN   NaN  NaN\n",
       "one             NaN   NaN  NaN\n",
       "zero            NaN   NaN  NaN"
      ],
      "text/html": "<div>\n<style scoped>\n    .dataframe tbody tr th:only-of-type {\n        vertical-align: middle;\n    }\n\n    .dataframe tbody tr th {\n        vertical-align: top;\n    }\n\n    .dataframe thead th {\n        text-align: right;\n    }\n</style>\n<table border=\"1\" class=\"dataframe\">\n  <thead>\n    <tr style=\"text-align: right;\">\n      <th></th>\n      <th>year</th>\n      <th>state</th>\n      <th>pop</th>\n    </tr>\n    <tr>\n      <th>serial number</th>\n      <th></th>\n      <th></th>\n      <th></th>\n    </tr>\n  </thead>\n  <tbody>\n    <tr>\n      <th>two</th>\n      <td>NaN</td>\n      <td>NaN</td>\n      <td>NaN</td>\n    </tr>\n    <tr>\n      <th>three</th>\n      <td>NaN</td>\n      <td>NaN</td>\n      <td>NaN</td>\n    </tr>\n    <tr>\n      <th>four</th>\n      <td>NaN</td>\n      <td>NaN</td>\n      <td>NaN</td>\n    </tr>\n    <tr>\n      <th>five</th>\n      <td>NaN</td>\n      <td>NaN</td>\n      <td>NaN</td>\n    </tr>\n    <tr>\n      <th>one</th>\n      <td>NaN</td>\n      <td>NaN</td>\n      <td>NaN</td>\n    </tr>\n    <tr>\n      <th>zero</th>\n      <td>NaN</td>\n      <td>NaN</td>\n      <td>NaN</td>\n    </tr>\n  </tbody>\n</table>\n</div>"
     },
     "metadata": {},
     "execution_count": 44
    }
   ],
   "source": [
    "frameUpadate"
   ]
  },
  {
   "cell_type": "code",
   "execution_count": 45,
   "metadata": {},
   "outputs": [],
   "source": [
    "frameUpadate.index = (['two','three','four','five','one','zero'])"
   ]
  },
  {
   "cell_type": "code",
   "execution_count": 46,
   "metadata": {},
   "outputs": [],
   "source": [
    "frameUpadate.index.name = 'Serial Number'"
   ]
  },
  {
   "cell_type": "code",
   "execution_count": 47,
   "metadata": {},
   "outputs": [
    {
     "output_type": "execute_result",
     "data": {
      "text/plain": [
       "               year state  pop\n",
       "Serial Number                 \n",
       "two             NaN   NaN  NaN\n",
       "three           NaN   NaN  NaN\n",
       "four            NaN   NaN  NaN\n",
       "five            NaN   NaN  NaN\n",
       "one             NaN   NaN  NaN\n",
       "zero            NaN   NaN  NaN"
      ],
      "text/html": "<div>\n<style scoped>\n    .dataframe tbody tr th:only-of-type {\n        vertical-align: middle;\n    }\n\n    .dataframe tbody tr th {\n        vertical-align: top;\n    }\n\n    .dataframe thead th {\n        text-align: right;\n    }\n</style>\n<table border=\"1\" class=\"dataframe\">\n  <thead>\n    <tr style=\"text-align: right;\">\n      <th></th>\n      <th>year</th>\n      <th>state</th>\n      <th>pop</th>\n    </tr>\n    <tr>\n      <th>Serial Number</th>\n      <th></th>\n      <th></th>\n      <th></th>\n    </tr>\n  </thead>\n  <tbody>\n    <tr>\n      <th>two</th>\n      <td>NaN</td>\n      <td>NaN</td>\n      <td>NaN</td>\n    </tr>\n    <tr>\n      <th>three</th>\n      <td>NaN</td>\n      <td>NaN</td>\n      <td>NaN</td>\n    </tr>\n    <tr>\n      <th>four</th>\n      <td>NaN</td>\n      <td>NaN</td>\n      <td>NaN</td>\n    </tr>\n    <tr>\n      <th>five</th>\n      <td>NaN</td>\n      <td>NaN</td>\n      <td>NaN</td>\n    </tr>\n    <tr>\n      <th>one</th>\n      <td>NaN</td>\n      <td>NaN</td>\n      <td>NaN</td>\n    </tr>\n    <tr>\n      <th>zero</th>\n      <td>NaN</td>\n      <td>NaN</td>\n      <td>NaN</td>\n    </tr>\n  </tbody>\n</table>\n</div>"
     },
     "metadata": {},
     "execution_count": 47
    }
   ],
   "source": [
    "frameUpadate"
   ]
  },
  {
   "source": [
    "### Slicing\n"
   ],
   "cell_type": "markdown",
   "metadata": {}
  },
  {
   "cell_type": "code",
   "execution_count": 48,
   "metadata": {},
   "outputs": [
    {
     "output_type": "execute_result",
     "data": {
      "text/plain": [
       "one        ohia\n",
       "two        ohia\n",
       "three      ohia\n",
       "four     nevada\n",
       "five     nevada\n",
       "six      nevada\n",
       "Name: state, dtype: object"
      ]
     },
     "metadata": {},
     "execution_count": 48
    }
   ],
   "source": [
    "frame2['state']"
   ]
  },
  {
   "cell_type": "code",
   "execution_count": 49,
   "metadata": {},
   "outputs": [
    {
     "output_type": "execute_result",
     "data": {
      "text/plain": [
       "one        ohia\n",
       "two        ohia\n",
       "three      ohia\n",
       "four     nevada\n",
       "five     nevada\n",
       "six      nevada\n",
       "Name: state, dtype: object"
      ]
     },
     "metadata": {},
     "execution_count": 49
    }
   ],
   "source": [
    "frame2.state"
   ]
  },
  {
   "cell_type": "code",
   "execution_count": 50,
   "metadata": {},
   "outputs": [
    {
     "output_type": "execute_result",
     "data": {
      "text/plain": [
       "        state\n",
       "one      ohia\n",
       "two      ohia\n",
       "three    ohia\n",
       "four   nevada\n",
       "five   nevada\n",
       "six    nevada"
      ],
      "text/html": "<div>\n<style scoped>\n    .dataframe tbody tr th:only-of-type {\n        vertical-align: middle;\n    }\n\n    .dataframe tbody tr th {\n        vertical-align: top;\n    }\n\n    .dataframe thead th {\n        text-align: right;\n    }\n</style>\n<table border=\"1\" class=\"dataframe\">\n  <thead>\n    <tr style=\"text-align: right;\">\n      <th></th>\n      <th>state</th>\n    </tr>\n  </thead>\n  <tbody>\n    <tr>\n      <th>one</th>\n      <td>ohia</td>\n    </tr>\n    <tr>\n      <th>two</th>\n      <td>ohia</td>\n    </tr>\n    <tr>\n      <th>three</th>\n      <td>ohia</td>\n    </tr>\n    <tr>\n      <th>four</th>\n      <td>nevada</td>\n    </tr>\n    <tr>\n      <th>five</th>\n      <td>nevada</td>\n    </tr>\n    <tr>\n      <th>six</th>\n      <td>nevada</td>\n    </tr>\n  </tbody>\n</table>\n</div>"
     },
     "metadata": {},
     "execution_count": 50
    }
   ],
   "source": [
    "pd.DataFrame(frame2.loc[:,'state'])"
   ]
  },
  {
   "cell_type": "code",
   "execution_count": 51,
   "metadata": {},
   "outputs": [],
   "source": [
    "# Columns can be added and modified \n",
    "frame2[\"debt\"] = np.arange(6)"
   ]
  },
  {
   "cell_type": "code",
   "execution_count": 52,
   "metadata": {},
   "outputs": [
    {
     "output_type": "execute_result",
     "data": {
      "text/plain": [
       "        year   state  pop  debt\n",
       "one     2000    ohia  1.5     0\n",
       "two     2001    ohia  1.7     1\n",
       "three   2003    ohia  3.6     2\n",
       "four   34004  nevada  2.4     3\n",
       "five   34324  nevada  2.9     4\n",
       "six     3534  nevada  3.2     5"
      ],
      "text/html": "<div>\n<style scoped>\n    .dataframe tbody tr th:only-of-type {\n        vertical-align: middle;\n    }\n\n    .dataframe tbody tr th {\n        vertical-align: top;\n    }\n\n    .dataframe thead th {\n        text-align: right;\n    }\n</style>\n<table border=\"1\" class=\"dataframe\">\n  <thead>\n    <tr style=\"text-align: right;\">\n      <th></th>\n      <th>year</th>\n      <th>state</th>\n      <th>pop</th>\n      <th>debt</th>\n    </tr>\n  </thead>\n  <tbody>\n    <tr>\n      <th>one</th>\n      <td>2000</td>\n      <td>ohia</td>\n      <td>1.5</td>\n      <td>0</td>\n    </tr>\n    <tr>\n      <th>two</th>\n      <td>2001</td>\n      <td>ohia</td>\n      <td>1.7</td>\n      <td>1</td>\n    </tr>\n    <tr>\n      <th>three</th>\n      <td>2003</td>\n      <td>ohia</td>\n      <td>3.6</td>\n      <td>2</td>\n    </tr>\n    <tr>\n      <th>four</th>\n      <td>34004</td>\n      <td>nevada</td>\n      <td>2.4</td>\n      <td>3</td>\n    </tr>\n    <tr>\n      <th>five</th>\n      <td>34324</td>\n      <td>nevada</td>\n      <td>2.9</td>\n      <td>4</td>\n    </tr>\n    <tr>\n      <th>six</th>\n      <td>3534</td>\n      <td>nevada</td>\n      <td>3.2</td>\n      <td>5</td>\n    </tr>\n  </tbody>\n</table>\n</div>"
     },
     "metadata": {},
     "execution_count": 52
    }
   ],
   "source": [
    "frame2"
   ]
  },
  {
   "cell_type": "code",
   "execution_count": 53,
   "metadata": {},
   "outputs": [],
   "source": [
    "val = pd.Series([1,3,4],index= ['two','four','five'])"
   ]
  },
  {
   "cell_type": "code",
   "execution_count": 54,
   "metadata": {},
   "outputs": [
    {
     "output_type": "execute_result",
     "data": {
      "text/plain": [
       "two     1\n",
       "four    3\n",
       "five    4\n",
       "dtype: int64"
      ]
     },
     "metadata": {},
     "execution_count": 54
    }
   ],
   "source": [
    "val"
   ]
  },
  {
   "cell_type": "code",
   "execution_count": 55,
   "metadata": {},
   "outputs": [],
   "source": [
    "frame2['debt'] = val"
   ]
  },
  {
   "cell_type": "code",
   "execution_count": 56,
   "metadata": {},
   "outputs": [
    {
     "output_type": "execute_result",
     "data": {
      "text/plain": [
       "        year   state  pop  debt\n",
       "one     2000    ohia  1.5   NaN\n",
       "two     2001    ohia  1.7   1.0\n",
       "three   2003    ohia  3.6   NaN\n",
       "four   34004  nevada  2.4   3.0\n",
       "five   34324  nevada  2.9   4.0\n",
       "six     3534  nevada  3.2   NaN"
      ],
      "text/html": "<div>\n<style scoped>\n    .dataframe tbody tr th:only-of-type {\n        vertical-align: middle;\n    }\n\n    .dataframe tbody tr th {\n        vertical-align: top;\n    }\n\n    .dataframe thead th {\n        text-align: right;\n    }\n</style>\n<table border=\"1\" class=\"dataframe\">\n  <thead>\n    <tr style=\"text-align: right;\">\n      <th></th>\n      <th>year</th>\n      <th>state</th>\n      <th>pop</th>\n      <th>debt</th>\n    </tr>\n  </thead>\n  <tbody>\n    <tr>\n      <th>one</th>\n      <td>2000</td>\n      <td>ohia</td>\n      <td>1.5</td>\n      <td>NaN</td>\n    </tr>\n    <tr>\n      <th>two</th>\n      <td>2001</td>\n      <td>ohia</td>\n      <td>1.7</td>\n      <td>1.0</td>\n    </tr>\n    <tr>\n      <th>three</th>\n      <td>2003</td>\n      <td>ohia</td>\n      <td>3.6</td>\n      <td>NaN</td>\n    </tr>\n    <tr>\n      <th>four</th>\n      <td>34004</td>\n      <td>nevada</td>\n      <td>2.4</td>\n      <td>3.0</td>\n    </tr>\n    <tr>\n      <th>five</th>\n      <td>34324</td>\n      <td>nevada</td>\n      <td>2.9</td>\n      <td>4.0</td>\n    </tr>\n    <tr>\n      <th>six</th>\n      <td>3534</td>\n      <td>nevada</td>\n      <td>3.2</td>\n      <td>NaN</td>\n    </tr>\n  </tbody>\n</table>\n</div>"
     },
     "metadata": {},
     "execution_count": 56
    }
   ],
   "source": [
    "frame2"
   ]
  },
  {
   "cell_type": "code",
   "execution_count": 57,
   "metadata": {},
   "outputs": [],
   "source": [
    "del frame2['debt']"
   ]
  },
  {
   "cell_type": "code",
   "execution_count": 58,
   "metadata": {},
   "outputs": [
    {
     "output_type": "execute_result",
     "data": {
      "text/plain": [
       "        year   state  pop\n",
       "one     2000    ohia  1.5\n",
       "two     2001    ohia  1.7\n",
       "three   2003    ohia  3.6\n",
       "four   34004  nevada  2.4\n",
       "five   34324  nevada  2.9\n",
       "six     3534  nevada  3.2"
      ],
      "text/html": "<div>\n<style scoped>\n    .dataframe tbody tr th:only-of-type {\n        vertical-align: middle;\n    }\n\n    .dataframe tbody tr th {\n        vertical-align: top;\n    }\n\n    .dataframe thead th {\n        text-align: right;\n    }\n</style>\n<table border=\"1\" class=\"dataframe\">\n  <thead>\n    <tr style=\"text-align: right;\">\n      <th></th>\n      <th>year</th>\n      <th>state</th>\n      <th>pop</th>\n    </tr>\n  </thead>\n  <tbody>\n    <tr>\n      <th>one</th>\n      <td>2000</td>\n      <td>ohia</td>\n      <td>1.5</td>\n    </tr>\n    <tr>\n      <th>two</th>\n      <td>2001</td>\n      <td>ohia</td>\n      <td>1.7</td>\n    </tr>\n    <tr>\n      <th>three</th>\n      <td>2003</td>\n      <td>ohia</td>\n      <td>3.6</td>\n    </tr>\n    <tr>\n      <th>four</th>\n      <td>34004</td>\n      <td>nevada</td>\n      <td>2.4</td>\n    </tr>\n    <tr>\n      <th>five</th>\n      <td>34324</td>\n      <td>nevada</td>\n      <td>2.9</td>\n    </tr>\n    <tr>\n      <th>six</th>\n      <td>3534</td>\n      <td>nevada</td>\n      <td>3.2</td>\n    </tr>\n  </tbody>\n</table>\n</div>"
     },
     "metadata": {},
     "execution_count": 58
    }
   ],
   "source": [
    "frame2"
   ]
  },
  {
   "source": [
    "## Nested Dictionary"
   ],
   "cell_type": "markdown",
   "metadata": {}
  },
  {
   "cell_type": "code",
   "execution_count": 61,
   "metadata": {},
   "outputs": [],
   "source": [
    "pop = {'nevada':{2001:2.4,2002:3.5},\n",
    "        'ohio':{200:1.5,202:2,205:5}}"
   ]
  },
  {
   "cell_type": "code",
   "execution_count": 62,
   "metadata": {},
   "outputs": [
    {
     "output_type": "execute_result",
     "data": {
      "text/plain": [
       "{'nevada': {2001: 2.4, 2002: 3.5}, 'ohio': {200: 1.5, 202: 2, 205: 5}}"
      ]
     },
     "metadata": {},
     "execution_count": 62
    }
   ],
   "source": [
    "pop"
   ]
  },
  {
   "cell_type": "code",
   "execution_count": 63,
   "metadata": {},
   "outputs": [],
   "source": [
    "fram3 = pd.DataFrame(pop)"
   ]
  },
  {
   "cell_type": "code",
   "execution_count": 64,
   "metadata": {},
   "outputs": [
    {
     "output_type": "execute_result",
     "data": {
      "text/plain": [
       "      nevada  ohio\n",
       "2001     2.4   NaN\n",
       "2002     3.5   NaN\n",
       "200      NaN   1.5\n",
       "202      NaN   2.0\n",
       "205      NaN   5.0"
      ],
      "text/html": "<div>\n<style scoped>\n    .dataframe tbody tr th:only-of-type {\n        vertical-align: middle;\n    }\n\n    .dataframe tbody tr th {\n        vertical-align: top;\n    }\n\n    .dataframe thead th {\n        text-align: right;\n    }\n</style>\n<table border=\"1\" class=\"dataframe\">\n  <thead>\n    <tr style=\"text-align: right;\">\n      <th></th>\n      <th>nevada</th>\n      <th>ohio</th>\n    </tr>\n  </thead>\n  <tbody>\n    <tr>\n      <th>2001</th>\n      <td>2.4</td>\n      <td>NaN</td>\n    </tr>\n    <tr>\n      <th>2002</th>\n      <td>3.5</td>\n      <td>NaN</td>\n    </tr>\n    <tr>\n      <th>200</th>\n      <td>NaN</td>\n      <td>1.5</td>\n    </tr>\n    <tr>\n      <th>202</th>\n      <td>NaN</td>\n      <td>2.0</td>\n    </tr>\n    <tr>\n      <th>205</th>\n      <td>NaN</td>\n      <td>5.0</td>\n    </tr>\n  </tbody>\n</table>\n</div>"
     },
     "metadata": {},
     "execution_count": 64
    }
   ],
   "source": [
    "fram3"
   ]
  },
  {
   "cell_type": "code",
   "execution_count": 68,
   "metadata": {},
   "outputs": [],
   "source": [
    "pdata = {'ohia':fram3['ohio'][:-1],\n",
    "        'nevada':fram3['nevada'][:2]}"
   ]
  },
  {
   "cell_type": "code",
   "execution_count": 70,
   "metadata": {},
   "outputs": [
    {
     "output_type": "execute_result",
     "data": {
      "text/plain": [
       "      ohia  nevada\n",
       "200    1.5     NaN\n",
       "202    2.0     NaN\n",
       "2001   NaN     2.4\n",
       "2002   NaN     3.5"
      ],
      "text/html": "<div>\n<style scoped>\n    .dataframe tbody tr th:only-of-type {\n        vertical-align: middle;\n    }\n\n    .dataframe tbody tr th {\n        vertical-align: top;\n    }\n\n    .dataframe thead th {\n        text-align: right;\n    }\n</style>\n<table border=\"1\" class=\"dataframe\">\n  <thead>\n    <tr style=\"text-align: right;\">\n      <th></th>\n      <th>ohia</th>\n      <th>nevada</th>\n    </tr>\n  </thead>\n  <tbody>\n    <tr>\n      <th>200</th>\n      <td>1.5</td>\n      <td>NaN</td>\n    </tr>\n    <tr>\n      <th>202</th>\n      <td>2.0</td>\n      <td>NaN</td>\n    </tr>\n    <tr>\n      <th>2001</th>\n      <td>NaN</td>\n      <td>2.4</td>\n    </tr>\n    <tr>\n      <th>2002</th>\n      <td>NaN</td>\n      <td>3.5</td>\n    </tr>\n  </tbody>\n</table>\n</div>"
     },
     "metadata": {},
     "execution_count": 70
    }
   ],
   "source": [
    "pd.DataFrame(pdata)"
   ]
  },
  {
   "cell_type": "code",
   "execution_count": 71,
   "metadata": {},
   "outputs": [
    {
     "output_type": "execute_result",
     "data": {
      "text/plain": [
       "state  nevada  ohio\n",
       "year               \n",
       "2001      2.4   NaN\n",
       "2002      3.5   NaN\n",
       "200       NaN   1.5\n",
       "202       NaN   2.0\n",
       "205       NaN   5.0"
      ],
      "text/html": "<div>\n<style scoped>\n    .dataframe tbody tr th:only-of-type {\n        vertical-align: middle;\n    }\n\n    .dataframe tbody tr th {\n        vertical-align: top;\n    }\n\n    .dataframe thead th {\n        text-align: right;\n    }\n</style>\n<table border=\"1\" class=\"dataframe\">\n  <thead>\n    <tr style=\"text-align: right;\">\n      <th>state</th>\n      <th>nevada</th>\n      <th>ohio</th>\n    </tr>\n    <tr>\n      <th>year</th>\n      <th></th>\n      <th></th>\n    </tr>\n  </thead>\n  <tbody>\n    <tr>\n      <th>2001</th>\n      <td>2.4</td>\n      <td>NaN</td>\n    </tr>\n    <tr>\n      <th>2002</th>\n      <td>3.5</td>\n      <td>NaN</td>\n    </tr>\n    <tr>\n      <th>200</th>\n      <td>NaN</td>\n      <td>1.5</td>\n    </tr>\n    <tr>\n      <th>202</th>\n      <td>NaN</td>\n      <td>2.0</td>\n    </tr>\n    <tr>\n      <th>205</th>\n      <td>NaN</td>\n      <td>5.0</td>\n    </tr>\n  </tbody>\n</table>\n</div>"
     },
     "metadata": {},
     "execution_count": 71
    }
   ],
   "source": [
    "fram3.index.name = 'year'; \n",
    "fram3.columns.name = 'state'\n",
    "fram3"
   ]
  },
  {
   "cell_type": "code",
   "execution_count": 75,
   "metadata": {},
   "outputs": [
    {
     "output_type": "execute_result",
     "data": {
      "text/plain": [
       "array([[2.4, nan],\n",
       "       [3.5, nan],\n",
       "       [nan, 1.5],\n",
       "       [nan, 2. ],\n",
       "       [nan, 5. ]])"
      ]
     },
     "metadata": {},
     "execution_count": 75
    }
   ],
   "source": [
    "arr = fram3.values\n",
    "arr"
   ]
  },
  {
   "cell_type": "code",
   "execution_count": 77,
   "metadata": {},
   "outputs": [
    {
     "output_type": "execute_result",
     "data": {
      "text/plain": [
       "2"
      ]
     },
     "metadata": {},
     "execution_count": 77
    }
   ],
   "source": [
    "np.ndim(arr)"
   ]
  },
  {
   "source": [
    "### Index Objects"
   ],
   "cell_type": "markdown",
   "metadata": {}
  },
  {
   "cell_type": "code",
   "execution_count": 79,
   "metadata": {},
   "outputs": [],
   "source": [
    "obj = pd.Series(range(4),index= list('abcd'))"
   ]
  },
  {
   "cell_type": "code",
   "execution_count": 80,
   "metadata": {},
   "outputs": [
    {
     "output_type": "execute_result",
     "data": {
      "text/plain": [
       "a    0\n",
       "b    1\n",
       "c    2\n",
       "d    3\n",
       "dtype: int64"
      ]
     },
     "metadata": {},
     "execution_count": 80
    }
   ],
   "source": [
    "obj"
   ]
  },
  {
   "cell_type": "code",
   "execution_count": 88,
   "metadata": {},
   "outputs": [],
   "source": [
    "obj = pd.DataFrame(obj)"
   ]
  },
  {
   "cell_type": "code",
   "execution_count": 89,
   "metadata": {},
   "outputs": [],
   "source": [
    "obj.index.name = 'index'\n",
    "obj.columns.name = 'numbers'"
   ]
  },
  {
   "cell_type": "code",
   "execution_count": 90,
   "metadata": {},
   "outputs": [
    {
     "output_type": "execute_result",
     "data": {
      "text/plain": [
       "numbers  0\n",
       "index     \n",
       "a        0\n",
       "b        1\n",
       "c        2\n",
       "d        3"
      ],
      "text/html": "<div>\n<style scoped>\n    .dataframe tbody tr th:only-of-type {\n        vertical-align: middle;\n    }\n\n    .dataframe tbody tr th {\n        vertical-align: top;\n    }\n\n    .dataframe thead th {\n        text-align: right;\n    }\n</style>\n<table border=\"1\" class=\"dataframe\">\n  <thead>\n    <tr style=\"text-align: right;\">\n      <th>numbers</th>\n      <th>0</th>\n    </tr>\n    <tr>\n      <th>index</th>\n      <th></th>\n    </tr>\n  </thead>\n  <tbody>\n    <tr>\n      <th>a</th>\n      <td>0</td>\n    </tr>\n    <tr>\n      <th>b</th>\n      <td>1</td>\n    </tr>\n    <tr>\n      <th>c</th>\n      <td>2</td>\n    </tr>\n    <tr>\n      <th>d</th>\n      <td>3</td>\n    </tr>\n  </tbody>\n</table>\n</div>"
     },
     "metadata": {},
     "execution_count": 90
    }
   ],
   "source": [
    "pd.DataFrame(obj)"
   ]
  },
  {
   "cell_type": "code",
   "execution_count": 91,
   "metadata": {},
   "outputs": [
    {
     "output_type": "execute_result",
     "data": {
      "text/plain": [
       "False"
      ]
     },
     "metadata": {},
     "execution_count": 91
    }
   ],
   "source": [
    "obj.index is 'a'"
   ]
  },
  {
   "cell_type": "code",
   "execution_count": 92,
   "metadata": {},
   "outputs": [
    {
     "output_type": "execute_result",
     "data": {
      "text/plain": [
       "False"
      ]
     },
     "metadata": {},
     "execution_count": 92
    }
   ],
   "source": [
    "obj.index is 'index'"
   ]
  },
  {
   "cell_type": "code",
   "execution_count": 96,
   "metadata": {},
   "outputs": [
    {
     "output_type": "execute_result",
     "data": {
      "text/plain": [
       "Int64Index([2001, 2002, 200, 202, 205], dtype='int64', name='year')"
      ]
     },
     "metadata": {},
     "execution_count": 96
    }
   ],
   "source": [
    "fram3.index"
   ]
  },
  {
   "cell_type": "code",
   "execution_count": 97,
   "metadata": {},
   "outputs": [
    {
     "output_type": "execute_result",
     "data": {
      "text/plain": [
       "state  nevada  ohio\n",
       "year               \n",
       "2001      2.4   NaN\n",
       "2002      3.5   NaN\n",
       "200       NaN   1.5\n",
       "202       NaN   2.0\n",
       "205       NaN   5.0"
      ],
      "text/html": "<div>\n<style scoped>\n    .dataframe tbody tr th:only-of-type {\n        vertical-align: middle;\n    }\n\n    .dataframe tbody tr th {\n        vertical-align: top;\n    }\n\n    .dataframe thead th {\n        text-align: right;\n    }\n</style>\n<table border=\"1\" class=\"dataframe\">\n  <thead>\n    <tr style=\"text-align: right;\">\n      <th>state</th>\n      <th>nevada</th>\n      <th>ohio</th>\n    </tr>\n    <tr>\n      <th>year</th>\n      <th></th>\n      <th></th>\n    </tr>\n  </thead>\n  <tbody>\n    <tr>\n      <th>2001</th>\n      <td>2.4</td>\n      <td>NaN</td>\n    </tr>\n    <tr>\n      <th>2002</th>\n      <td>3.5</td>\n      <td>NaN</td>\n    </tr>\n    <tr>\n      <th>200</th>\n      <td>NaN</td>\n      <td>1.5</td>\n    </tr>\n    <tr>\n      <th>202</th>\n      <td>NaN</td>\n      <td>2.0</td>\n    </tr>\n    <tr>\n      <th>205</th>\n      <td>NaN</td>\n      <td>5.0</td>\n    </tr>\n  </tbody>\n</table>\n</div>"
     },
     "metadata": {},
     "execution_count": 97
    }
   ],
   "source": [
    "fram3"
   ]
  },
  {
   "cell_type": "code",
   "execution_count": 98,
   "metadata": {},
   "outputs": [
    {
     "output_type": "execute_result",
     "data": {
      "text/plain": [
       "Index(['nevada', 'ohio'], dtype='object', name='state')"
      ]
     },
     "metadata": {},
     "execution_count": 98
    }
   ],
   "source": [
    "fram3.columns"
   ]
  },
  {
   "cell_type": "code",
   "execution_count": 99,
   "metadata": {},
   "outputs": [
    {
     "output_type": "execute_result",
     "data": {
      "text/plain": [
       "True"
      ]
     },
     "metadata": {},
     "execution_count": 99
    }
   ],
   "source": [
    "'ohio' in fram3.columns"
   ]
  },
  {
   "cell_type": "code",
   "execution_count": null,
   "metadata": {},
   "outputs": [],
   "source": []
  }
 ]
}